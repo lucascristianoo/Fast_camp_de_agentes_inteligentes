{
  "nbformat": 4,
  "nbformat_minor": 0,
  "metadata": {
    "colab": {
      "provenance": []
    },
    "kernelspec": {
      "name": "python3",
      "display_name": "Python 3"
    },
    "language_info": {
      "name": "python"
    }
  },
  "cells": [
    {
      "cell_type": "markdown",
      "source": [
        "# Exemplo 1: Using Pydantic for Data Validation"
      ],
      "metadata": {
        "id": "LlHs6kThQhld"
      }
    },
    {
      "cell_type": "markdown",
      "source": [
        "Instalando biblioteca pydantic[email], pois estava dando um erro ao executar\n",
        "a class Role, devido ao uso do EmailStr"
      ],
      "metadata": {
        "id": "lnalyZH1yyr1"
      }
    },
    {
      "cell_type": "code",
      "source": [
        "!pip install pydantic[email]"
      ],
      "metadata": {
        "colab": {
          "base_uri": "https://localhost:8080/"
        },
        "id": "wo2dHJ9MAhVR",
        "outputId": "a1bbfe9d-a75f-4e38-9414-e256e0856b06"
      },
      "execution_count": 1,
      "outputs": [
        {
          "output_type": "stream",
          "name": "stdout",
          "text": [
            "Requirement already satisfied: pydantic[email] in /usr/local/lib/python3.11/dist-packages (2.10.6)\n",
            "Requirement already satisfied: annotated-types>=0.6.0 in /usr/local/lib/python3.11/dist-packages (from pydantic[email]) (0.7.0)\n",
            "Requirement already satisfied: pydantic-core==2.27.2 in /usr/local/lib/python3.11/dist-packages (from pydantic[email]) (2.27.2)\n",
            "Requirement already satisfied: typing-extensions>=4.12.2 in /usr/local/lib/python3.11/dist-packages (from pydantic[email]) (4.12.2)\n",
            "Collecting email-validator>=2.0.0 (from pydantic[email])\n",
            "  Downloading email_validator-2.2.0-py3-none-any.whl.metadata (25 kB)\n",
            "Collecting dnspython>=2.0.0 (from email-validator>=2.0.0->pydantic[email])\n",
            "  Downloading dnspython-2.7.0-py3-none-any.whl.metadata (5.8 kB)\n",
            "Requirement already satisfied: idna>=2.0.0 in /usr/local/lib/python3.11/dist-packages (from email-validator>=2.0.0->pydantic[email]) (3.10)\n",
            "Downloading email_validator-2.2.0-py3-none-any.whl (33 kB)\n",
            "Downloading dnspython-2.7.0-py3-none-any.whl (313 kB)\n",
            "\u001b[2K   \u001b[90m━━━━━━━━━━━━━━━━━━━━━━━━━━━━━━━━━━━━━━━━\u001b[0m \u001b[32m313.6/313.6 kB\u001b[0m \u001b[31m7.0 MB/s\u001b[0m eta \u001b[36m0:00:00\u001b[0m\n",
            "\u001b[?25hInstalling collected packages: dnspython, email-validator\n",
            "Successfully installed dnspython-2.7.0 email-validator-2.2.0\n"
          ]
        }
      ]
    },
    {
      "cell_type": "markdown",
      "source": [
        "Abaixo temos a importação de módulos e classes que ajudam na criação de modelos de dados validados (pydantic) (typing, any aceitando qualquer tipo de dado) e na definição de enumerações (enum, sendo auto e IntFlag)."
      ],
      "metadata": {
        "id": "beZbAianzCgP"
      }
    },
    {
      "cell_type": "code",
      "execution_count": 2,
      "metadata": {
        "id": "ht26fQB78KaK"
      },
      "outputs": [],
      "source": [
        "from enum import auto, IntFlag\n",
        "from typing import Any\n",
        "from pydantic import (BaseModel,\n",
        "                      EmailStr, # tipos já válidos da biblioteca pydantic\n",
        "                      Field,\n",
        "                      SecretStr,\n",
        "                      ValidationError,\n",
        "                      )"
      ]
    },
    {
      "cell_type": "markdown",
      "source": [
        "Abaixo temos duas classes um Role enum, a qual é um int e pode ser um author, editor, developer ou admin que pode ser qualquer um dos três. A user class que herda BaseModel, que foi importada do pydantic e é usada para realizar o básico da validação do pydantic, os campos que fazem parte da classe user, ou seja, o que o usuário deve ter são name ( o qual têm tipo de anotação str e um Field com o exemplos de nomes válidos), email ( usa o tipo EmailStr que veio da biblioteca pydantic e também possuí um Field que contêm alguns parâmetros como exemplos válidos, uma descrição sobre o que é e se deve ficar congelado sem poder ser alterado depois ou não, o \"frozen\"), password (O mesmo vale para a senha, a qual têm o tipo SecretStr que veio da biblioteca pydantic, o qual quando é imprimido exibe ****** e além disso password possui exemplo e descrição) e role ( que recebe os valores enumerados provenientes da classe Role)."
      ],
      "metadata": {
        "id": "TmjOkwCJzvlf"
      }
    },
    {
      "cell_type": "code",
      "source": [
        "class Role(IntFlag):\n",
        "  Author = auto()\n",
        "  Editor = auto()\n",
        "  Developer = auto()\n",
        "  Admin = Author | Editor | Developer\n",
        "\n",
        "class User(BaseModel):\n",
        "    name: str = Field(examples=[\"Arjan\"])\n",
        "    email: EmailStr = Field(\n",
        "        examples=[\"example@arjancodes.com\"],\n",
        "        description=\"The email address of the user\",\n",
        "        frozen=True,\n",
        "    )\n",
        "    password: SecretStr = Field(\n",
        "        examples=[\"Password123\"], description=\"The password of the user\"\n",
        "    )\n",
        "    role: Role = Field(default=None, description=\"The role of the user\")"
      ],
      "metadata": {
        "id": "ZX1DR7v19qY_"
      },
      "execution_count": 3,
      "outputs": []
    },
    {
      "cell_type": "markdown",
      "source": [
        "Abaixo temos definida uma função validação (validate), a qual chama o modelo de validação e nos permite verificar se os dados estão de acordo com a estrutura de usuário definida anteriormente. Logo se estiverem o usuário é imprimido se não imprime que o usuário é inválido e imprime os erros."
      ],
      "metadata": {
        "id": "9baFRdBz3bmN"
      }
    },
    {
      "cell_type": "code",
      "source": [
        "def validate(data: dict[str, Any]) -> None:\n",
        "    try:\n",
        "        user = User.model_validate(data)\n",
        "        print(user)\n",
        "    except ValidationError as e:\n",
        "        print(\"User is invalid\")\n",
        "        for error in e.errors():\n",
        "            print(error)"
      ],
      "metadata": {
        "id": "bHAVjdp5_ynI"
      },
      "execution_count": 4,
      "outputs": []
    },
    {
      "cell_type": "markdown",
      "source": [
        "Abaixo temos um exemplo de dados corretos (good_data) e incorretos (bad_data) para testar a função validate e verificar se os dados estão de acordo com a estrutura de usuário definida em User."
      ],
      "metadata": {
        "id": "YYIIn1VmGOAz"
      }
    },
    {
      "cell_type": "code",
      "source": [
        "def main() -> None:\n",
        "    good_data = {\n",
        "        \"name\": \"Arjan\",\n",
        "        \"email\": \"example@arjancodes.com\",\n",
        "        \"password\": \"Password123\",\n",
        "    }\n",
        "    bad_data = {\"email\": \"<bad data>\", \"password\": \"<bad data>\"}\n",
        "\n",
        "    validate(good_data)\n",
        "    validate(bad_data)"
      ],
      "metadata": {
        "id": "HNdsis0sGMYY"
      },
      "execution_count": 5,
      "outputs": []
    },
    {
      "cell_type": "markdown",
      "source": [
        "Quando executado obtemos para o good_data tudo certo e para o bad_data recebemos um erro de que não há um name e de que ambos os valores de email e de password não são válidos. Logo abaixo temos referências da documentação para entender o erro."
      ],
      "metadata": {
        "id": "fqaU7zbGHODI"
      }
    },
    {
      "cell_type": "code",
      "source": [
        "if __name__ == \"__main__\":\n",
        "  main()"
      ],
      "metadata": {
        "colab": {
          "base_uri": "https://localhost:8080/"
        },
        "id": "iqecUwpWQbHB",
        "outputId": "eb70798a-9415-451a-eb1c-62244b9c8536"
      },
      "execution_count": 6,
      "outputs": [
        {
          "output_type": "stream",
          "name": "stdout",
          "text": [
            "name='Arjan' email='example@arjancodes.com' password=SecretStr('**********') role=None\n",
            "User is invalid\n",
            "{'type': 'missing', 'loc': ('name',), 'msg': 'Field required', 'input': {'email': '<bad data>', 'password': '<bad data>'}, 'url': 'https://errors.pydantic.dev/2.10/v/missing'}\n",
            "{'type': 'value_error', 'loc': ('email',), 'msg': 'value is not a valid email address: An email address must have an @-sign.', 'input': '<bad data>', 'ctx': {'reason': 'An email address must have an @-sign.'}}\n"
          ]
        }
      ]
    },
    {
      "cell_type": "markdown",
      "source": [
        "# Exemplo 2: Custom Validators"
      ],
      "metadata": {
        "id": "aTQV78EmQfhq"
      }
    },
    {
      "cell_type": "markdown",
      "source": [
        "A diferença em relação ao exemplo anterior é o módulo hashlib para a implementação de criptografia e o re para usar regex."
      ],
      "metadata": {
        "id": "DJx_fnMeIJg7"
      }
    },
    {
      "cell_type": "code",
      "source": [
        "import enum\n",
        "import hashlib\n",
        "import re\n",
        "from typing import Any\n",
        "\n",
        "from pydantic import (\n",
        "    BaseModel,\n",
        "    EmailStr,\n",
        "    Field,\n",
        "    field_validator,\n",
        "    model_validator,\n",
        "    SecretStr,\n",
        "    ValidationError,\n",
        ")"
      ],
      "metadata": {
        "id": "FFC_r6RyQld_"
      },
      "execution_count": 7,
      "outputs": []
    },
    {
      "cell_type": "markdown",
      "source": [
        "Expressões regulares para validar nomes e senhas"
      ],
      "metadata": {
        "id": "CfkFFLuxJZvk"
      }
    },
    {
      "cell_type": "code",
      "source": [
        "VALID_PASSWORD_REGEX = re.compile(r\"^(?=.*[a-z])(?=.*[A-Z])(?=.*\\d).{8,}$\")\n",
        "VALID_NAME_REGEX = re.compile(r\"^[a-zA-Z]{2,}$\")"
      ],
      "metadata": {
        "id": "b8zwwjXFRM9N"
      },
      "execution_count": 8,
      "outputs": []
    },
    {
      "cell_type": "markdown",
      "source": [
        "Abaixo temos o class Role e o Class user modificados, primeiramente sobre o class Role agora ele está recebendo diretamente valores int para cada Role, em vez de auto como no código anterior. Já a class User teve modificações quanto aos objetos pydantic adicionados, os quais são validações personalizadas, as quais não estão presentes na biblioteca pydantic, usando fields validators decorators, o primero é de nome que é definido um valor de classe, onde está sendo verificado pelo regex se o valor corresponde ao obtido e se não é gerado um valor de erro de que o nome deve conter letras e pelo menos 2 caracteres, além disso também não temos um mode nele. Já no validator de field temos um \"mode=before\", onde pode-se especificar o tipo de entrada que se deseja trabalhar e no caso da função validate_role pode ser um valor inteiro, string ou enum e então tenta-se converter o valor pra um tipo Role e se não funcionar é emitido um erro. Além disso vale citar que ao usar o modo before essas funções de validação deverão ser metódos de classe (No caso do \"mode=after\", tratam-se de metódos de instância regulares, podendo só passar o self e trabalhar com ele). Logo em seguida temos objeto model_validator, que permite validar todos os ddadfos de uam vez, o qual é útil para verificar se o usuário não está usando o seu name contido no password, onde é usado um dicionário, além disso vale citar que também há o uso de regex para verificar a senha, a qual vai ser inválida se não ter 8 caracteres, 1 maiúscula, 1 minúscula e 1 número, e antes de finalizar temos um hash da senha antes de armzená-la na instância."
      ],
      "metadata": {
        "id": "--PO8PyFJcoC"
      }
    },
    {
      "cell_type": "code",
      "source": [
        "class Role(enum.IntFlag):\n",
        "    Author = 1\n",
        "    Editor = 2\n",
        "    Admin = 4\n",
        "    SuperAdmin = 8\n",
        "\n",
        "\n",
        "class User(BaseModel):\n",
        "    name: str = Field(examples=[\"Arjan\"])\n",
        "    email: EmailStr = Field(\n",
        "        examples=[\"user@arjancodes.com\"],\n",
        "        description=\"The email address of the user\",\n",
        "        frozen=True,\n",
        "    )\n",
        "    password: SecretStr = Field(\n",
        "        examples=[\"Password123\"], description=\"The password of the user\"\n",
        "    )\n",
        "    role: Role = Field(\n",
        "        default=None, description=\"The role of the user\", examples=[1, 2, 4, 8]\n",
        "    )\n",
        "\n",
        "    @field_validator(\"name\")\n",
        "    @classmethod\n",
        "    def validate_name(cls, v: str) -> str:\n",
        "        if not VALID_NAME_REGEX.match(v):\n",
        "            raise ValueError(\n",
        "                \"Name is invalid, must contain only letters and be at least 2 characters long\"\n",
        "            )\n",
        "        return v\n",
        "\n",
        "    @field_validator(\"role\", mode=\"before\")\n",
        "    @classmethod\n",
        "    def validate_role(cls, v: int | str | Role) -> Role:\n",
        "        op = {int: lambda x: Role(x), str: lambda x: Role[x], Role: lambda x: x}\n",
        "        try:\n",
        "            return op[type(v)](v)\n",
        "        except (KeyError, ValueError):\n",
        "            raise ValueError(\n",
        "                f\"Role is invalid, please use one of the following: {', '.join([x.name for x in Role])}\"\n",
        "            )\n",
        "\n",
        "    @model_validator(mode=\"before\")\n",
        "    @classmethod\n",
        "    def validate_user(cls, v: dict[str, Any]) -> dict[str, Any]:\n",
        "        if \"name\" not in v or \"password\" not in v:\n",
        "            raise ValueError(\"Name and password are required\")\n",
        "        if v[\"name\"].casefold() in v[\"password\"].casefold():\n",
        "            raise ValueError(\"Password cannot contain name\")\n",
        "        if not VALID_PASSWORD_REGEX.match(v[\"password\"]):\n",
        "            raise ValueError(\n",
        "                \"Password is invalid, must contain 8 characters, 1 uppercase, 1 lowercase, 1 number\"\n",
        "            )\n",
        "        v[\"password\"] = hashlib.sha256(v[\"password\"].encode()).hexdigest()\n",
        "        return v"
      ],
      "metadata": {
        "id": "sJtWV0XrRseS"
      },
      "execution_count": 9,
      "outputs": []
    },
    {
      "cell_type": "markdown",
      "source": [
        "Abaixo temos a função validate que vai receber um dicionário com dados para testar se esses são válidos, sendo good_data, bad_data, bad_role, bad_name, duplicados e dados faltantes."
      ],
      "metadata": {
        "id": "0ESlDYvPQT1U"
      }
    },
    {
      "cell_type": "code",
      "source": [
        "def validate(data: dict[str, Any]) -> None:\n",
        "    try:\n",
        "        user = User.model_validate(data)\n",
        "        print(user)\n",
        "    except ValidationError as e:\n",
        "        print(\"User is invalid:\")\n",
        "        print(e)\n",
        "\n",
        "\n",
        "def main() -> None:\n",
        "    test_data = dict(\n",
        "        good_data={\n",
        "            \"name\": \"Arjan\",\n",
        "            \"email\": \"example@arjancodes.com\",\n",
        "            \"password\": \"Password123\",\n",
        "            \"role\": \"Admin\",\n",
        "        },\n",
        "        bad_role={\n",
        "            \"name\": \"Arjan\",\n",
        "            \"email\": \"example@arjancodes.com\",\n",
        "            \"password\": \"Password123\",\n",
        "            \"role\": \"Programmer\",\n",
        "        },\n",
        "        bad_data={\n",
        "            \"name\": \"Arjan\",\n",
        "            \"email\": \"bad email\",\n",
        "            \"password\": \"bad password\",\n",
        "        },\n",
        "        bad_name={\n",
        "            \"name\": \"Arjan<-_->\",\n",
        "            \"email\": \"example@arjancodes.com\",\n",
        "            \"password\": \"Password123\",\n",
        "        },\n",
        "        duplicate={\n",
        "            \"name\": \"Arjan\",\n",
        "            \"email\": \"example@arjancodes.com\",\n",
        "            \"password\": \"Arjan123\",\n",
        "        },\n",
        "        missing_data={\n",
        "            \"email\": \"<bad data>\",\n",
        "            \"password\": \"<bad data>\",\n",
        "        },\n",
        "    )\n",
        "\n",
        "    for example_name, data in test_data.items():\n",
        "        print(example_name)\n",
        "        validate(data)\n",
        "        print()"
      ],
      "metadata": {
        "id": "q5TY4-B_mLCE"
      },
      "execution_count": 10,
      "outputs": []
    },
    {
      "cell_type": "markdown",
      "source": [
        "Abaixo podemos observar que o good_data é válido, que o bad_role possui um erro na validação do usuário, que o bad_data possui uma senha inválida que não segue as recomendações, o mesmo pode-se dizer do bad_name, o duplicate usa seu nome de usuário na senha e o missing não t6em dado algum."
      ],
      "metadata": {
        "id": "whIuB2S3QtNR"
      }
    },
    {
      "cell_type": "code",
      "source": [
        "if __name__ == \"__main__\":\n",
        "    main()"
      ],
      "metadata": {
        "colab": {
          "base_uri": "https://localhost:8080/"
        },
        "id": "LmW5667Rk4Ek",
        "outputId": "715230c2-44db-444d-8581-1d5ccbadbfe3"
      },
      "execution_count": 11,
      "outputs": [
        {
          "output_type": "stream",
          "name": "stdout",
          "text": [
            "good_data\n",
            "name='Arjan' email='example@arjancodes.com' password=SecretStr('**********') role=<Role.Admin: 4>\n",
            "\n",
            "bad_role\n",
            "User is invalid:\n",
            "1 validation error for User\n",
            "role\n",
            "  Value error, Role is invalid, please use one of the following: Author, Editor, Admin, SuperAdmin [type=value_error, input_value='Programmer', input_type=str]\n",
            "    For further information visit https://errors.pydantic.dev/2.10/v/value_error\n",
            "\n",
            "bad_data\n",
            "User is invalid:\n",
            "1 validation error for User\n",
            "  Value error, Password is invalid, must contain 8 characters, 1 uppercase, 1 lowercase, 1 number [type=value_error, input_value={'name': 'Arjan', 'email'...ssword': 'bad password'}, input_type=dict]\n",
            "    For further information visit https://errors.pydantic.dev/2.10/v/value_error\n",
            "\n",
            "bad_name\n",
            "User is invalid:\n",
            "1 validation error for User\n",
            "name\n",
            "  Value error, Name is invalid, must contain only letters and be at least 2 characters long [type=value_error, input_value='Arjan<-_->', input_type=str]\n",
            "    For further information visit https://errors.pydantic.dev/2.10/v/value_error\n",
            "\n",
            "duplicate\n",
            "User is invalid:\n",
            "1 validation error for User\n",
            "  Value error, Password cannot contain name [type=value_error, input_value={'name': 'Arjan', 'email'... 'password': 'Arjan123'}, input_type=dict]\n",
            "    For further information visit https://errors.pydantic.dev/2.10/v/value_error\n",
            "\n",
            "missing_data\n",
            "User is invalid:\n",
            "1 validation error for User\n",
            "  Value error, Name and password are required [type=value_error, input_value={'email': '<bad data>', 'password': '<bad data>'}, input_type=dict]\n",
            "    For further information visit https://errors.pydantic.dev/2.10/v/value_error\n",
            "\n"
          ]
        }
      ]
    },
    {
      "cell_type": "markdown",
      "source": [
        "# Exemplo 3: Custom Serilization"
      ],
      "metadata": {
        "id": "hazs9xWaQmeF"
      }
    },
    {
      "cell_type": "code",
      "source": [
        "import enum\n",
        "import hashlib\n",
        "import re\n",
        "from typing import Any, Self\n",
        "\n",
        "from pydantic import (\n",
        "    BaseModel,\n",
        "    EmailStr,\n",
        "    Field,\n",
        "    field_serializer,\n",
        "    field_validator,\n",
        "    model_serializer,\n",
        "    model_validator,\n",
        "    SecretStr,\n",
        ")"
      ],
      "metadata": {
        "id": "Ab_x6AC-Qm-n"
      },
      "execution_count": 12,
      "outputs": []
    },
    {
      "cell_type": "markdown",
      "source": [
        "Expressões regulares para validar nomes e senhas"
      ],
      "metadata": {
        "id": "0PI2C0smSLpk"
      }
    },
    {
      "cell_type": "code",
      "source": [
        "VALID_PASSWORD_REGEX = re.compile(r\"^(?=.*[a-z])(?=.*[A-Z])(?=.*\\d).{8,}$\")\n",
        "VALID_NAME_REGEX = re.compile(r\"^[a-zA-Z]{2,}$\")"
      ],
      "metadata": {
        "id": "Ge7j9QLMlbTz"
      },
      "execution_count": 13,
      "outputs": []
    },
    {
      "cell_type": "markdown",
      "source": [
        "A diferença entre o trecho abaixo e os anteriores é o de que Role agora possui um User que recebe zero e que a class User agora conta com um parâmetro novo em field em password, o parâmetro exclude, ou seja, quando o objeto é serializado a senha não é incluída. Incluise agora temos serializers além dos validators, oferecendo mais controle, como em field_serializer de que quando usado um JSON em role, deve-se retornar o nome para poder armazená-lo em formato JSON, o mesmo vale para o model_serializer que agora conta com o \"mode=wrap\"."
      ],
      "metadata": {
        "id": "i98jn4UTSRqE"
      }
    },
    {
      "cell_type": "code",
      "source": [
        "class Role(enum.IntFlag):\n",
        "    User = 0\n",
        "    Author = 1\n",
        "    Editor = 2\n",
        "    Admin = 4\n",
        "    SuperAdmin = 8\n",
        "\n",
        "\n",
        "class User(BaseModel):\n",
        "    name: str = Field(examples=[\"Example\"])\n",
        "    email: EmailStr = Field(\n",
        "        examples=[\"user@arjancodes.com\"],\n",
        "        description=\"The email address of the user\",\n",
        "        frozen=True,\n",
        "    )\n",
        "    password: SecretStr = Field(\n",
        "        examples=[\"Password123\"], description=\"The password of the user\", exclude=True\n",
        "    )\n",
        "    role: Role = Field(\n",
        "        description=\"The role of the user\",\n",
        "        examples=[1, 2, 4, 8],\n",
        "        default=0,\n",
        "        validate_default=True,\n",
        "    )\n",
        "\n",
        "    @field_validator(\"name\")\n",
        "    def validate_name(cls, v: str) -> str:\n",
        "        if not VALID_NAME_REGEX.match(v):\n",
        "            raise ValueError(\n",
        "                \"Name is invalid, must contain only letters and be at least 2 characters long\"\n",
        "            )\n",
        "        return v\n",
        "\n",
        "    @field_validator(\"role\", mode=\"before\")\n",
        "    @classmethod\n",
        "    def validate_role(cls, v: int | str | Role) -> Role:\n",
        "        op = {int: lambda x: Role(x), str: lambda x: Role[x], Role: lambda x: x}\n",
        "        try:\n",
        "            return op[type(v)](v)\n",
        "        except (KeyError, ValueError):\n",
        "            raise ValueError(\n",
        "                f\"Role is invalid, please use one of the following: {', '.join([x.name for x in Role])}\"\n",
        "            )\n",
        "\n",
        "    @model_validator(mode=\"before\")\n",
        "    @classmethod\n",
        "    def validate_user_pre(cls, v: dict[str, Any]) -> dict[str, Any]:\n",
        "        if \"name\" not in v or \"password\" not in v:\n",
        "            raise ValueError(\"Name and password are required\")\n",
        "        if v[\"name\"].casefold() in v[\"password\"].casefold():\n",
        "            raise ValueError(\"Password cannot contain name\")\n",
        "        if not VALID_PASSWORD_REGEX.match(v[\"password\"]):\n",
        "            raise ValueError(\n",
        "                \"Password is invalid, must contain 8 characters, 1 uppercase, 1 lowercase, 1 number\"\n",
        "            )\n",
        "        v[\"password\"] = hashlib.sha256(v[\"password\"].encode()).hexdigest()\n",
        "        return v\n",
        "\n",
        "    @model_validator(mode=\"after\")\n",
        "    def validate_user_post(self, v: Any) -> Self:\n",
        "        if self.role == Role.Admin and self.name != \"Arjan\":\n",
        "            raise ValueError(\"Only Arjan can be an admin\")\n",
        "        return self\n",
        "\n",
        "    @field_serializer(\"role\", when_used=\"json\")\n",
        "    @classmethod\n",
        "    def serialize_role(cls, v) -> str:\n",
        "        return v.name\n",
        "\n",
        "    @model_serializer(mode=\"wrap\", when_used=\"json\")\n",
        "    def serialize_user(self, serializer, info) -> dict[str, Any]:\n",
        "        if not info.include and not info.exclude:\n",
        "            return {\"name\": self.name, \"role\": self.role.name}\n",
        "        return serializer(self)"
      ],
      "metadata": {
        "id": "-dg7stoulsLc"
      },
      "execution_count": 14,
      "outputs": []
    },
    {
      "cell_type": "markdown",
      "source": [
        "Novamente temos a função main com um dicionário para realizar os testes de validação. Onde há a serialização de um dicionário usando model_dump e de uma string JSON. Além disso já que estamos usando o exlude pode-se exluir role como no caso de \"user.model_dump(exclude=[\"role\"....\""
      ],
      "metadata": {
        "id": "bqbFyJe2SSVQ"
      }
    },
    {
      "cell_type": "code",
      "source": [
        "def main() -> None:\n",
        "    data = {\n",
        "        \"name\": \"Arjan\",\n",
        "        \"email\": \"example@arjancodes.com\",\n",
        "        \"password\": \"Password123\",\n",
        "        \"role\": \"Admin\",\n",
        "    }\n",
        "    user = User.model_validate(data)\n",
        "    if user:\n",
        "        print(\n",
        "            \"The serializer that returns a dict:\",\n",
        "            user.model_dump(),\n",
        "            sep=\"\\n\",\n",
        "            end=\"\\n\\n\",\n",
        "        )\n",
        "        print(\n",
        "            \"The serializer that returns a JSON string:\",\n",
        "            user.model_dump(mode=\"json\"),\n",
        "            sep=\"\\n\",\n",
        "            end=\"\\n\\n\",\n",
        "        )\n",
        "        print(\n",
        "            \"The serializer that returns a json string, excluding the role:\",\n",
        "            user.model_dump(exclude=[\"role\"], mode=\"json\"),\n",
        "            sep=\"\\n\",\n",
        "            end=\"\\n\\n\",\n",
        "        )\n",
        "        print(\"The serializer that encodes all values to a dict:\", dict(user), sep=\"\\n\")"
      ],
      "metadata": {
        "id": "ovdSP1wImArs"
      },
      "execution_count": 15,
      "outputs": []
    },
    {
      "cell_type": "markdown",
      "source": [
        "Executando o exemplo temos: o serilizador do dicionário, retornando o role como um valor enum (4), a string json tranformada em string, a string json sem função removendo role e o exemplo que codifica todos os valores do dicionário."
      ],
      "metadata": {
        "id": "EXUIOy1_STBO"
      }
    },
    {
      "cell_type": "code",
      "source": [
        "if __name__ == \"__main__\":\n",
        "    main()"
      ],
      "metadata": {
        "colab": {
          "base_uri": "https://localhost:8080/"
        },
        "id": "SnuJmhswmbmB",
        "outputId": "5b79a6f3-7c10-4f78-e5f9-d85890f01a2a"
      },
      "execution_count": 16,
      "outputs": [
        {
          "output_type": "stream",
          "name": "stdout",
          "text": [
            "The serializer that returns a dict:\n",
            "{'name': 'Arjan', 'email': 'example@arjancodes.com', 'role': <Role.Admin: 4>}\n",
            "\n",
            "The serializer that returns a JSON string:\n",
            "{'name': 'Arjan', 'role': 'Admin'}\n",
            "\n",
            "The serializer that returns a json string, excluding the role:\n",
            "{'name': 'Arjan', 'email': 'example@arjancodes.com'}\n",
            "\n",
            "The serializer that encodes all values to a dict:\n",
            "{'name': 'Arjan', 'email': 'example@arjancodes.com', 'password': SecretStr('**********'), 'role': <Role.Admin: 4>}\n"
          ]
        }
      ]
    },
    {
      "cell_type": "markdown",
      "source": [
        "# Exemplo 4: Fast API"
      ],
      "metadata": {
        "id": "t3PSFCruVbue"
      }
    },
    {
      "cell_type": "markdown",
      "source": [
        "Instalando o FastAPI"
      ],
      "metadata": {
        "id": "5AZ88v-lYUMV"
      }
    },
    {
      "cell_type": "code",
      "source": [
        "%pip install FastAPI"
      ],
      "metadata": {
        "colab": {
          "base_uri": "https://localhost:8080/"
        },
        "id": "A1oqOp9JVrB2",
        "outputId": "0f345fd7-98eb-456e-8423-3cb74b43bc76"
      },
      "execution_count": 17,
      "outputs": [
        {
          "output_type": "stream",
          "name": "stdout",
          "text": [
            "Collecting FastAPI\n",
            "  Downloading fastapi-0.115.11-py3-none-any.whl.metadata (27 kB)\n",
            "Collecting starlette<0.47.0,>=0.40.0 (from FastAPI)\n",
            "  Downloading starlette-0.46.0-py3-none-any.whl.metadata (6.2 kB)\n",
            "Requirement already satisfied: pydantic!=1.8,!=1.8.1,!=2.0.0,!=2.0.1,!=2.1.0,<3.0.0,>=1.7.4 in /usr/local/lib/python3.11/dist-packages (from FastAPI) (2.10.6)\n",
            "Requirement already satisfied: typing-extensions>=4.8.0 in /usr/local/lib/python3.11/dist-packages (from FastAPI) (4.12.2)\n",
            "Requirement already satisfied: annotated-types>=0.6.0 in /usr/local/lib/python3.11/dist-packages (from pydantic!=1.8,!=1.8.1,!=2.0.0,!=2.0.1,!=2.1.0,<3.0.0,>=1.7.4->FastAPI) (0.7.0)\n",
            "Requirement already satisfied: pydantic-core==2.27.2 in /usr/local/lib/python3.11/dist-packages (from pydantic!=1.8,!=1.8.1,!=2.0.0,!=2.0.1,!=2.1.0,<3.0.0,>=1.7.4->FastAPI) (2.27.2)\n",
            "Requirement already satisfied: anyio<5,>=3.6.2 in /usr/local/lib/python3.11/dist-packages (from starlette<0.47.0,>=0.40.0->FastAPI) (3.7.1)\n",
            "Requirement already satisfied: idna>=2.8 in /usr/local/lib/python3.11/dist-packages (from anyio<5,>=3.6.2->starlette<0.47.0,>=0.40.0->FastAPI) (3.10)\n",
            "Requirement already satisfied: sniffio>=1.1 in /usr/local/lib/python3.11/dist-packages (from anyio<5,>=3.6.2->starlette<0.47.0,>=0.40.0->FastAPI) (1.3.1)\n",
            "Downloading fastapi-0.115.11-py3-none-any.whl (94 kB)\n",
            "\u001b[2K   \u001b[90m━━━━━━━━━━━━━━━━━━━━━━━━━━━━━━━━━━━━━━━━\u001b[0m \u001b[32m94.9/94.9 kB\u001b[0m \u001b[31m2.8 MB/s\u001b[0m eta \u001b[36m0:00:00\u001b[0m\n",
            "\u001b[?25hDownloading starlette-0.46.0-py3-none-any.whl (71 kB)\n",
            "\u001b[2K   \u001b[90m━━━━━━━━━━━━━━━━━━━━━━━━━━━━━━━━━━━━━━━━\u001b[0m \u001b[32m72.0/72.0 kB\u001b[0m \u001b[31m4.3 MB/s\u001b[0m eta \u001b[36m0:00:00\u001b[0m\n",
            "\u001b[?25hInstalling collected packages: starlette, FastAPI\n",
            "Successfully installed FastAPI-0.115.11 starlette-0.46.0\n"
          ]
        }
      ]
    },
    {
      "cell_type": "markdown",
      "source": [
        "Abaixo temos a importação de datetime para trablhar com datas e horários, Optional (ou seja o campo pode ser None), uuid4 que gera um identificador único aleatório e a própia FastApi. Ao final temos a instância app = FASTAPI para poder adicionar rotas."
      ],
      "metadata": {
        "id": "iiwTZNz2YZBk"
      }
    },
    {
      "cell_type": "code",
      "source": [
        "from datetime import datetime\n",
        "from typing import Optional\n",
        "from uuid import uuid4\n",
        "\n",
        "from fastapi import FastAPI\n",
        "from fastapi.responses import JSONResponse\n",
        "from fastapi.testclient import TestClient\n",
        "from pydantic import BaseModel, EmailStr, Field, field_serializer, UUID4\n",
        "\n",
        "app = FastAPI()"
      ],
      "metadata": {
        "id": "HByLR4ERVe5L"
      },
      "execution_count": 18,
      "outputs": []
    },
    {
      "cell_type": "markdown",
      "source": [
        "A diferença desse trecho abaixo em relação aos anteiores da classe User, reside no fato de que este conta conta com opções extras, como por exemplo a configuração que proíbe a adição de atributos extras, ou seja, não é desejável que a API seja chamada, apenas que sejam adicionados vários atributos ao body. Como anteriormente temos name, email, mas agora esses fazem parte de uma API, além desses há atributos adicionais como uma lista de amigos, um ID, uma data e hora opcional e assim como no exemplo anterior podem ser usados serializadores para especificar como retornar esse objeto na API. Abaixo temos o uso da FastAPI onde é declarado um endpoint, para a obtenção de usuários e outro para a criação de usuários, respectivamente \"@app.get\" e \"@app.post\", onde ao receber como argumento User a FastAPI vai garantir que seja feita a validação."
      ],
      "metadata": {
        "id": "o8kn1kauqk4Q"
      }
    },
    {
      "cell_type": "code",
      "source": [
        "class User(BaseModel):\n",
        "    model_config = {\n",
        "        \"extra\": \"forbid\",\n",
        "    }\n",
        "    __users__ = []\n",
        "    name: str = Field(..., description=\"Name of the user\")\n",
        "    email: EmailStr = Field(..., description=\"Email address of the user\")\n",
        "    friends: list[UUID4] = Field(\n",
        "        default_factory=list, max_items=500, description=\"List of friends\"\n",
        "    )\n",
        "    blocked: list[UUID4] = Field(\n",
        "        default_factory=list, max_items=500, description=\"List of blocked users\"\n",
        "    )\n",
        "    signup_ts: Optional[datetime] = Field(\n",
        "        default_factory=datetime.now, description=\"Signup timestamp\", kw_only=True\n",
        "    )\n",
        "    id: UUID4 = Field(\n",
        "        default_factory=uuid4, description=\"Unique identifier\", kw_only=True\n",
        "    )\n",
        "\n",
        "    @field_serializer(\"id\", when_used=\"json\")\n",
        "    def serialize_id(self, id: UUID4) -> str:\n",
        "        return str(id)\n",
        "\n",
        "\n",
        "@app.get(\"/users\", response_model=list[User])\n",
        "async def get_users() -> list[User]:\n",
        "    return list(User.__users__)\n",
        "\n",
        "\n",
        "@app.post(\"/users\", response_model=User)\n",
        "async def create_user(user: User):\n",
        "    User.__users__.append(user)\n",
        "    return user\n",
        "\n",
        "\n",
        "@app.get(\"/users/{user_id}\", response_model=User)\n",
        "async def get_user(user_id: UUID4) -> User | JSONResponse:\n",
        "    try:\n",
        "        return next((user for user in User.__users__ if user.id == user_id))\n",
        "    except StopIteration:\n",
        "        return JSONResponse(status_code=404, content={\"message\": \"User not found\"})"
      ],
      "metadata": {
        "id": "zlieENejVg7e"
      },
      "execution_count": 19,
      "outputs": []
    },
    {
      "cell_type": "markdown",
      "source": [
        "Na função main temos um cliente de teste para executar os testes"
      ],
      "metadata": {
        "id": "3b5NRt3lsidp"
      }
    },
    {
      "cell_type": "code",
      "source": [
        "def main() -> None:\n",
        "    with TestClient(app) as client:\n",
        "        for i in range(5):\n",
        "            response = client.post(\n",
        "                \"/users\",\n",
        "                json={\"name\": f\"User {i}\", \"email\": f\"example{i}@arjancodes.com\"},\n",
        "            )\n",
        "            assert response.status_code == 200\n",
        "            assert response.json()[\"name\"] == f\"User {i}\", (\n",
        "                \"The name of the user should be User {i}\"\n",
        "            )\n",
        "            assert response.json()[\"id\"], \"The user should have an id\"\n",
        "\n",
        "            user = User.model_validate(response.json())\n",
        "            assert str(user.id) == response.json()[\"id\"], \"The id should be the same\"\n",
        "            assert user.signup_ts, \"The signup timestamp should be set\"\n",
        "            assert user.friends == [], \"The friends list should be empty\"\n",
        "            assert user.blocked == [], \"The blocked list should be empty\"\n",
        "\n",
        "        response = client.get(\"/users\")\n",
        "        assert response.status_code == 200, \"Response code should be 200\"\n",
        "        assert len(response.json()) == 5, \"There should be 5 users\"\n",
        "\n",
        "        response = client.post(\n",
        "            \"/users\", json={\"name\": \"User 5\", \"email\": \"example5@arjancodes.com\"}\n",
        "        )\n",
        "        assert response.status_code == 200\n",
        "        assert response.json()[\"name\"] == \"User 5\", (\n",
        "            \"The name of the user should be User 5\"\n",
        "        )\n",
        "        assert response.json()[\"id\"], \"The user should have an id\"\n",
        "\n",
        "        user = User.model_validate(response.json())\n",
        "        assert str(user.id) == response.json()[\"id\"], \"The id should be the same\"\n",
        "        assert user.signup_ts, \"The signup timestamp should be set\"\n",
        "        assert user.friends == [], \"The friends list should be empty\"\n",
        "        assert user.blocked == [], \"The blocked list should be empty\"\n",
        "\n",
        "        response = client.get(f\"/users/{response.json()['id']}\")\n",
        "        assert response.status_code == 200\n",
        "        assert response.json()[\"name\"] == \"User 5\", (\n",
        "            \"This should be the newly created user\"\n",
        "        )\n",
        "\n",
        "        response = client.get(f\"/users/{uuid4()}\")\n",
        "        assert response.status_code == 404\n",
        "        assert response.json()[\"message\"] == \"User not found\", (\n",
        "            \"We technically should not find this user\"\n",
        "        )\n",
        "\n",
        "        response = client.post(\"/users\", json={\"name\": \"User 6\", \"email\": \"wrong\"})\n",
        "        assert response.status_code == 422, \"The email address is should be invalid\"\n",
        "\n",
        "if __name__ == \"__main__\":\n",
        "    main()"
      ],
      "metadata": {
        "id": "LyZaS_-_VhKU"
      },
      "execution_count": 20,
      "outputs": []
    }
  ]
}