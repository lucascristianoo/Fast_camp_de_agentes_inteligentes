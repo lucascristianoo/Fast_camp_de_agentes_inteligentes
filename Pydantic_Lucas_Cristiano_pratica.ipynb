{
  "nbformat": 4,
  "nbformat_minor": 0,
  "metadata": {
    "colab": {
      "provenance": []
    },
    "kernelspec": {
      "name": "python3",
      "display_name": "Python 3"
    },
    "language_info": {
      "name": "python"
    }
  },
  "cells": [
    {
      "cell_type": "markdown",
      "source": [
        "# Using Pydantic for Data Validation"
      ],
      "metadata": {
        "id": "LlHs6kThQhld"
      }
    },
    {
      "cell_type": "markdown",
      "source": [
        "Instalando biblioteca pydantic[email], pois estava dando um erro ao executar\n",
        "a class Role, devido ao uso do EmailStr"
      ],
      "metadata": {
        "id": "lnalyZH1yyr1"
      }
    },
    {
      "cell_type": "code",
      "source": [
        "!pip install pydantic[email]"
      ],
      "metadata": {
        "colab": {
          "base_uri": "https://localhost:8080/"
        },
        "id": "wo2dHJ9MAhVR",
        "outputId": "939f0bd1-c813-40ac-93ff-8acb3f7a1607"
      },
      "execution_count": 1,
      "outputs": [
        {
          "output_type": "stream",
          "name": "stdout",
          "text": [
            "Requirement already satisfied: pydantic[email] in /usr/local/lib/python3.11/dist-packages (2.10.6)\n",
            "Requirement already satisfied: annotated-types>=0.6.0 in /usr/local/lib/python3.11/dist-packages (from pydantic[email]) (0.7.0)\n",
            "Requirement already satisfied: pydantic-core==2.27.2 in /usr/local/lib/python3.11/dist-packages (from pydantic[email]) (2.27.2)\n",
            "Requirement already satisfied: typing-extensions>=4.12.2 in /usr/local/lib/python3.11/dist-packages (from pydantic[email]) (4.12.2)\n",
            "Requirement already satisfied: email-validator>=2.0.0 in /usr/local/lib/python3.11/dist-packages (from pydantic[email]) (2.2.0)\n",
            "Requirement already satisfied: dnspython>=2.0.0 in /usr/local/lib/python3.11/dist-packages (from email-validator>=2.0.0->pydantic[email]) (2.7.0)\n",
            "Requirement already satisfied: idna>=2.0.0 in /usr/local/lib/python3.11/dist-packages (from email-validator>=2.0.0->pydantic[email]) (3.10)\n"
          ]
        }
      ]
    },
    {
      "cell_type": "markdown",
      "source": [
        "Abaixo temos a importação de módulos e classes que ajudam na criação de modelos de dados validados (pydantic) (typing, any aceitando qualquer tipo de dado) e na definição de enumerações (enum, sendo auto e IntFlag)."
      ],
      "metadata": {
        "id": "beZbAianzCgP"
      }
    },
    {
      "cell_type": "code",
      "execution_count": 2,
      "metadata": {
        "id": "ht26fQB78KaK"
      },
      "outputs": [],
      "source": [
        "from enum import auto, IntFlag\n",
        "from typing import Any\n",
        "from pydantic import (BaseModel,\n",
        "                      EmailStr, # tipos já válidos da biblioteca pydantic\n",
        "                      Field,\n",
        "                      SecretStr,\n",
        "                      ValidationError,\n",
        "                      )"
      ]
    },
    {
      "cell_type": "markdown",
      "source": [
        "Abaixo temos duas classes um Role enum, a qual é um int e pode ser um author, editor, developer ou admin que pode ser qualquer um dos três. A user class que herda BaseModel, que foi importada do pydantic e é usada para realizar o básico da validação do pydantic, os campos que fazem parte da classe user, ou seja, o que o usuário deve ter são name ( o qual têm tipo de anotação str e um Field com o exemplos de nomes válidos), email ( usa o tipo EmailStr que veio da biblioteca pydantic e também possuí um Field que contêm alguns parâmetros como exemplos válidos, uma descrição sobre o que é e se deve ficar congelado sem poder ser alterado depois ou não, o \"frozen\"), password (O mesmo vale para a senha, a qual têm o tipo SecretStr que veio da biblioteca pydantic, o qual quando é imprimido exibe ****** e além disso password possui exemplo e descrição) e role ( que recebe os valores enumerados provenientes da classe Role)."
      ],
      "metadata": {
        "id": "TmjOkwCJzvlf"
      }
    },
    {
      "cell_type": "code",
      "source": [
        "class Role(IntFlag):\n",
        "  Author = auto()\n",
        "  Editor = auto()\n",
        "  Developer = auto()\n",
        "  Admin = Author | Editor | Developer\n",
        "\n",
        "class User(BaseModel):\n",
        "    name: str = Field(examples=[\"Lucas_Cristiano\"])\n",
        "    email: EmailStr = Field(\n",
        "        examples=[\"lucas_cristiano@discente.ufg.br\"],\n",
        "        description=\"Email do discente\",\n",
        "        frozen=True,\n",
        "    )\n",
        "    password: SecretStr = Field(\n",
        "        examples=[\"Lucas4321\"], description=\"Senha do Usuário\"\n",
        "    )\n",
        "    role: Role = Field(default=None, description=\"Ocupação do Usuário\") # Adicionando Role opcional\n",
        "    projeto: str = Field (examples=[\"Fastcamp_Agentes\"]) # Adcionando um projeto que a pessoa está envolvida\n",
        "    perido: str = Field (examples=[\"2025.1\"]) # Adicionando o periodo que a pessoa está no momento\n",
        "    semestre: int = Field (examples=1) # Adicionando o valor numérico do semestre dessa pessoa"
      ],
      "metadata": {
        "id": "ZX1DR7v19qY_"
      },
      "execution_count": 3,
      "outputs": []
    },
    {
      "cell_type": "markdown",
      "source": [
        "Abaixo temos definida uma função validação (validate), a qual chama o modelo de validação e nos permite verificar se os dados estão de acordo com a estrutura de usuário definida anteriormente. Logo se estiverem o usuário é imprimido se não imprime que o usuário é inválido e imprime os erros."
      ],
      "metadata": {
        "id": "9baFRdBz3bmN"
      }
    },
    {
      "cell_type": "code",
      "source": [
        "def validate(data: dict[str, Any]) -> None:\n",
        "    try:\n",
        "        user = User.model_validate(data)\n",
        "        print(user)\n",
        "    except ValidationError as e:\n",
        "        print(\"Usuário não é válido\")\n",
        "        for error in e.errors():\n",
        "            print(error)"
      ],
      "metadata": {
        "id": "bHAVjdp5_ynI"
      },
      "execution_count": 4,
      "outputs": []
    },
    {
      "cell_type": "markdown",
      "source": [
        "Abaixo temos um exemplo de dados corretos (good_data) e incorretos (bad_data) para testar a função validate e verificar se os dados estão de acordo com a estrutura de usuário definida em User."
      ],
      "metadata": {
        "id": "YYIIn1VmGOAz"
      }
    },
    {
      "cell_type": "code",
      "source": [
        "def main() -> None:\n",
        "    good_data = {\n",
        "        \"name\": \"Lucas\",\n",
        "        \"email\": \"lucas_cristiano@discente.ufg.br\",\n",
        "        \"password\": \"Password123\",\n",
        "        \"projeto\": \"Fastcamp_Agentes\",\n",
        "        \"perido\": \"2025.1\",\n",
        "        \"semestre\": 1\n",
        "    }\n",
        "    bad_data = {\"email\": \"@discente\", \"password\": \"lucas4321\"} # espera-se que ocorra um erro no e-mail devido a não ter nada antes do @\n",
        "\n",
        "    validate(good_data)\n",
        "    validate(bad_data)"
      ],
      "metadata": {
        "id": "HNdsis0sGMYY"
      },
      "execution_count": 5,
      "outputs": []
    },
    {
      "cell_type": "markdown",
      "source": [
        "Quando executado obtemos para o good_data tudo certo e para o bad_data recebemos um erro de que não há um name e de que ambos os valores de email e de password não são válidos. Logo abaixo temos referências da documentação para entender o erro."
      ],
      "metadata": {
        "id": "fqaU7zbGHODI"
      }
    },
    {
      "cell_type": "code",
      "source": [
        "if __name__ == \"__main__\":\n",
        "  main()"
      ],
      "metadata": {
        "colab": {
          "base_uri": "https://localhost:8080/"
        },
        "id": "iqecUwpWQbHB",
        "outputId": "c6cb0861-3f01-4a50-ce4f-2272ef0584a2"
      },
      "execution_count": 6,
      "outputs": [
        {
          "output_type": "stream",
          "name": "stdout",
          "text": [
            "name='Lucas' email='lucas_cristiano@discente.ufg.br' password=SecretStr('**********') role=None projeto='Fastcamp_Agentes' perido='2025.1' semestre=1\n",
            "Usuário não é válido\n",
            "{'type': 'missing', 'loc': ('name',), 'msg': 'Field required', 'input': {'email': '@discente', 'password': 'lucas4321'}, 'url': 'https://errors.pydantic.dev/2.10/v/missing'}\n",
            "{'type': 'value_error', 'loc': ('email',), 'msg': 'value is not a valid email address: There must be something before the @-sign.', 'input': '@discente', 'ctx': {'reason': 'There must be something before the @-sign.'}}\n",
            "{'type': 'missing', 'loc': ('projeto',), 'msg': 'Field required', 'input': {'email': '@discente', 'password': 'lucas4321'}, 'url': 'https://errors.pydantic.dev/2.10/v/missing'}\n",
            "{'type': 'missing', 'loc': ('perido',), 'msg': 'Field required', 'input': {'email': '@discente', 'password': 'lucas4321'}, 'url': 'https://errors.pydantic.dev/2.10/v/missing'}\n",
            "{'type': 'missing', 'loc': ('semestre',), 'msg': 'Field required', 'input': {'email': '@discente', 'password': 'lucas4321'}, 'url': 'https://errors.pydantic.dev/2.10/v/missing'}\n"
          ]
        }
      ]
    },
    {
      "cell_type": "markdown",
      "source": [
        "Pelo visto o único erro foi no e-mail como mostra o output devido ao não uso de alguma coisa antes do @ e também vemos que como os outro fields não foram respondidos mesmo sendo obrigatórios todos apresentaram erro com exeção de Role que foi configurado como opcional."
      ],
      "metadata": {
        "id": "hwiktiUcnlWb"
      }
    },
    {
      "cell_type": "markdown",
      "source": [
        "# Custom Validators"
      ],
      "metadata": {
        "id": "aTQV78EmQfhq"
      }
    },
    {
      "cell_type": "markdown",
      "source": [
        "A diferença em relação ao exemplo anterior é o módulo hashlib para a implementação de criptografia e o re para usar regex."
      ],
      "metadata": {
        "id": "DJx_fnMeIJg7"
      }
    },
    {
      "cell_type": "code",
      "source": [
        "import enum\n",
        "import hashlib\n",
        "import re\n",
        "from typing import Any, Self\n",
        "\n",
        "from pydantic import (\n",
        "    BaseModel,\n",
        "    EmailStr,\n",
        "    Field,\n",
        "    field_validator,\n",
        "    model_validator,\n",
        "    SecretStr,\n",
        "    ValidationError,\n",
        ")"
      ],
      "metadata": {
        "id": "FFC_r6RyQld_"
      },
      "execution_count": 7,
      "outputs": []
    },
    {
      "cell_type": "markdown",
      "source": [
        "Expressões regulares para validar nomes e senhas"
      ],
      "metadata": {
        "id": "CfkFFLuxJZvk"
      }
    },
    {
      "cell_type": "code",
      "source": [
        "VALID_PASSWORD_REGEX = re.compile(r\"^(?=.*[a-z])(?=.*[A-Z])(?=.*\\d).{8,}$\")\n",
        "VALID_NAME_REGEX = re.compile(r\"^[a-zA-Z]{2,}$\")"
      ],
      "metadata": {
        "id": "b8zwwjXFRM9N"
      },
      "execution_count": 8,
      "outputs": []
    },
    {
      "cell_type": "markdown",
      "source": [
        "Abaixo temos o class Role e o Class user modificados, primeiramente sobre o class Role agora ele está recebendo diretamente valores int para cada Role, em vez de auto como no código anterior. Já a class User teve modificações quanto aos objetos pydantic adicionados, os quais são validações personalizadas, as quais não estão presentes na biblioteca pydantic, usando fields validators decorators, o primero é de nome que é definido um valor de classe, onde está sendo verificado pelo regex se o valor corresponde ao obtido e se não é gerado um valor de erro de que o nome deve conter letras e pelo menos 2 caracteres, além disso também não temos um mode nele. Já no validator de field temos um \"mode=before\", onde pode-se especificar o tipo de entrada que se deseja trabalhar e no caso da função validate_role pode ser um valor inteiro, string ou enum e então tenta-se converter o valor pra um tipo Role e se não funcionar é emitido um erro. Além disso vale citar que ao usar o modo before essas funções de validação deverão ser metódos de classe (No caso do \"mode=after\", tratam-se de metódos de instância regulares, podendo só passar o self e trabalhar com ele). Logo em seguida temos objeto model_validator, que permite validar todos os ddadfos de uam vez, o qual é útil para verificar se o usuário não está usando o seu name contido no password, onde é usado um dicionário, além disso vale citar que também há o uso de regex para verificar a senha, a qual vai ser inválida se não ter 8 caracteres, 1 maiúscula, 1 minúscula e 1 número, e antes de finalizar temos um hash da senha antes de armzená-la na instância."
      ],
      "metadata": {
        "id": "--PO8PyFJcoC"
      }
    },
    {
      "cell_type": "code",
      "source": [
        "class Role(enum.IntFlag):\n",
        "    Author = 1\n",
        "    Editor = 2\n",
        "    Admin = 4\n",
        "    SuperAdmin = 8\n",
        "\n",
        "\n",
        "class User(BaseModel):\n",
        "    name: str = Field(examples=[\"Lucas_Cristiano\"])\n",
        "    email: EmailStr = Field(\n",
        "        examples=[\"lucas_cristiano@discente.ufg.br\"],\n",
        "        description=\"Email do discente\",\n",
        "        frozen=True,\n",
        "    )\n",
        "    password: SecretStr = Field(\n",
        "        examples=[\"Lucas4321\"], description=\"Senha do Usuário\"\n",
        "    )\n",
        "    role: Role = Field(default=None, description=\"Ocupação do Usuário\")\n",
        "    projeto: str = Field (examples=[\"Fastcamp_Agentes\"])\n",
        "    periodo: str = Field (examples=[\"2025.1\"])\n",
        "    semestre: int = Field (examples=1)\n",
        "\n",
        "    @field_validator(\"name\")\n",
        "    @classmethod\n",
        "    def validate_name(cls, v: str) -> str:\n",
        "        if not VALID_NAME_REGEX.match(v):\n",
        "            raise ValueError(\n",
        "                \"Name is invalid, must contain only letters and be at least 2 characters long\"\n",
        "            )\n",
        "        return v\n",
        "\n",
        "    @field_validator(\"role\", mode=\"before\")\n",
        "    @classmethod\n",
        "    def validate_role(cls, v: int | str | Role) -> Role:\n",
        "        op = {int: lambda x: Role(x), str: lambda x: Role[x], Role: lambda x: x}\n",
        "        try:\n",
        "            return op[type(v)](v)\n",
        "        except (KeyError, ValueError):\n",
        "            raise ValueError(\n",
        "                f\"Role is invalid, please use one of the following: {', '.join([x.name for x in Role])}\"\n",
        "            )\n",
        "\n",
        "    @field_validator(\"semestre\",mode=\"before\") # se semestre for um valor negativo ou maior que dois aparecerá um erro\n",
        "    @classmethod\n",
        "    def validate_semestre(cls, v:int) -> int:\n",
        "        if v < 0:\n",
        "            raise ValueError(\"Semestre não pode ser negativo\")\n",
        "        elif v > 2:\n",
        "            raise ValueError(\"Semestre não pode ser maior que 2\")\n",
        "\n",
        "        return v\n",
        "\n",
        "    @field_validator(\"projeto\",mode=\"before\") # se projeto for vazio irá acontecer um erro\n",
        "    @classmethod\n",
        "    def validate_projeto(cls, v:str) -> str:\n",
        "        if not v:\n",
        "            raise ValueError(\"Projeto não pode ser vazio\")\n",
        "        return v\n",
        "\n",
        "    @field_validator(\"periodo\",mode=\"before\") # se semestre for um valor igual a zero ou vazio aparecerá um erro\n",
        "    @classmethod\n",
        "    def validate_perido(cls, v:str) -> str:\n",
        "        if not v:\n",
        "            raise ValueError(\"Período não pode ser vazio\")\n",
        "        elif v.strip() == \"0\":\n",
        "            raise ValueError(\"Período não pode ser 0\")\n",
        "        return v\n",
        "\n",
        "    @model_validator(mode=\"before\")\n",
        "    @classmethod\n",
        "    def validate_user(cls, v: dict[str, Any]) -> dict[str, Any]:\n",
        "        if \"name\" not in v or \"password\" not in v:\n",
        "            raise ValueError(\"Name and password are required\")\n",
        "        if v[\"name\"].casefold() in v[\"password\"].casefold():\n",
        "            raise ValueError(\"Password cannot contain name\")\n",
        "        if not VALID_PASSWORD_REGEX.match(v[\"password\"]):\n",
        "            raise ValueError(\n",
        "                \"Password is invalid, must contain 8 characters, 1 uppercase, 1 lowercase, 1 number\"\n",
        "            )\n",
        "        v[\"password\"] = hashlib.sha256(v[\"password\"].encode()).hexdigest()\n",
        "        return v\n",
        "\n",
        "    @model_validator(mode=\"after\") # Vai ocorrer a validação depois que o user for criado\n",
        "    def validate_user_post(self, v: Any) -> Self: # vai receber o user\n",
        "        if self.role == Role.Admin and self.name != \"Lucas\": # Se outra pessoa em vez de Lucas for Admin vai dar um erro\n",
        "            raise ValueError(\"Somente Lucas pode ser Admin\")"
      ],
      "metadata": {
        "id": "sJtWV0XrRseS"
      },
      "execution_count": 9,
      "outputs": []
    },
    {
      "cell_type": "markdown",
      "source": [
        "Abaixo temos a função validate que vai receber um dicionário com dados para testar se esses são válidos, sendo good_data, bad_data, bad_role, bad_name, duplicados e dados faltantes."
      ],
      "metadata": {
        "id": "0ESlDYvPQT1U"
      }
    },
    {
      "cell_type": "code",
      "source": [
        "def validate(data: dict[str, Any]) -> None:\n",
        "    try:\n",
        "        user = User.model_validate(data)\n",
        "        print(\"User is valid:\", user)\n",
        "    except ValidationError as e:\n",
        "        print(\"User is invalid:\")\n",
        "        print(e)\n",
        "\n",
        "def main() -> None:\n",
        "    test_data = {\n",
        "        \"valid_user\": {\n",
        "            \"name\": \"Lucas\",\n",
        "            \"email\": \"lucas@example.com\",\n",
        "            \"password\": \"StrongPass123\",\n",
        "            \"role\": \"Admin\",\n",
        "            \"projeto\": \"Fastcamp_Agentes\",\n",
        "            \"periodo\": \"2025.1\",\n",
        "            \"semestre\": 1\n",
        "        },\n",
        "        \"invalid_admin\": {\n",
        "            \"name\": \"João\",\n",
        "            \"email\": \"joao@example.com\",\n",
        "            \"password\": \"SecurePass123\",\n",
        "            \"role\": \"Admin\",\n",
        "            \"projeto\": \"Fastcamp_Agentes\",\n",
        "            \"periodo\": \"2025.1\",\n",
        "            \"semestre\": 1\n",
        "        },\n",
        "        \"invalid_email\": {\n",
        "            \"name\": \"Lucas\",\n",
        "            \"email\": \"email_invalido\",\n",
        "            \"password\": \"SecurePass123\",\n",
        "            \"role\": \"Editor\",\n",
        "            \"projeto\": \"Fastcamp_Agentes\",\n",
        "            \"periodo\": \"2025.1\",\n",
        "            \"semestre\": 1\n",
        "        },\n",
        "        \"negative_semestre\": {\n",
        "            \"name\": \"Lucas\",\n",
        "            \"email\": \"lucas@example.com\",\n",
        "            \"password\": \"SecurePass123\",\n",
        "            \"role\": \"Editor\",\n",
        "            \"projeto\": \"Fastcamp_Agentes\",\n",
        "            \"periodo\": \"2025.1\",\n",
        "            \"semestre\": -1\n",
        "        },\n",
        "        \"invalid_role\": {\n",
        "            \"name\": \"Lucas\",\n",
        "            \"email\": \"lucas@example.com\",\n",
        "            \"password\": \"SecurePass123\",\n",
        "            \"role\": \"InvalidRole\",\n",
        "            \"projeto\": \"Fastcamp_Agentes\",\n",
        "            \"periodo\": \"2025.1\",\n",
        "            \"semestre\": 1\n",
        "        },\n",
        "        \"missing_name_password\": {\n",
        "            \"email\": \"lucas@example.com\",\n",
        "            \"role\": \"Editor\",\n",
        "            \"projeto\": \"Fastcamp_Agentes\",\n",
        "            \"periodo\": \"2025.1\",\n",
        "            \"semestre\": 1\n",
        "        }\n",
        "    }\n",
        "\n",
        "    for example_name, data in test_data.items():\n",
        "        print(f\"Testando {example_name}\")\n",
        "        validate(data)\n",
        "        print()"
      ],
      "metadata": {
        "id": "q5TY4-B_mLCE"
      },
      "execution_count": 10,
      "outputs": []
    },
    {
      "cell_type": "markdown",
      "source": [
        "Abaixo podemos observar que o good_data é válido, que o bad_role possui um erro na validação do usuário, que o bad_data possui uma senha inválida que não segue as recomendações, o mesmo pode-se dizer do bad_name, o duplicate usa seu nome de usuário na senha e o missing não t6em dado algum."
      ],
      "metadata": {
        "id": "whIuB2S3QtNR"
      }
    },
    {
      "cell_type": "code",
      "source": [
        "if __name__ == \"__main__\":\n",
        "    main()"
      ],
      "metadata": {
        "colab": {
          "base_uri": "https://localhost:8080/"
        },
        "id": "LmW5667Rk4Ek",
        "outputId": "f604e38f-92bb-4239-f0ca-2cf5a4deaff0"
      },
      "execution_count": 11,
      "outputs": [
        {
          "output_type": "stream",
          "name": "stdout",
          "text": [
            "Testando valid_user\n",
            "User is valid: None\n",
            "\n",
            "Testando invalid_admin\n",
            "User is invalid:\n",
            "1 validation error for User\n",
            "name\n",
            "  Value error, Name is invalid, must contain only letters and be at least 2 characters long [type=value_error, input_value='João', input_type=str]\n",
            "    For further information visit https://errors.pydantic.dev/2.10/v/value_error\n",
            "\n",
            "Testando invalid_email\n",
            "User is invalid:\n",
            "1 validation error for User\n",
            "email\n",
            "  value is not a valid email address: An email address must have an @-sign. [type=value_error, input_value='email_invalido', input_type=str]\n",
            "\n",
            "Testando negative_semestre\n",
            "User is invalid:\n",
            "1 validation error for User\n",
            "semestre\n",
            "  Value error, Semestre não pode ser negativo [type=value_error, input_value=-1, input_type=int]\n",
            "    For further information visit https://errors.pydantic.dev/2.10/v/value_error\n",
            "\n",
            "Testando invalid_role\n",
            "User is invalid:\n",
            "1 validation error for User\n",
            "role\n",
            "  Value error, Role is invalid, please use one of the following: Author, Editor, Admin, SuperAdmin [type=value_error, input_value='InvalidRole', input_type=str]\n",
            "    For further information visit https://errors.pydantic.dev/2.10/v/value_error\n",
            "\n",
            "Testando missing_name_password\n",
            "User is invalid:\n",
            "1 validation error for User\n",
            "  Value error, Name and password are required [type=value_error, input_value={'email': 'lucas@example....'2025.1', 'semestre': 1}, input_type=dict]\n",
            "    For further information visit https://errors.pydantic.dev/2.10/v/value_error\n",
            "\n"
          ]
        }
      ]
    },
    {
      "cell_type": "markdown",
      "source": [
        "Como pode ser observado no output está sendo realizadas as verificações que foram montadas de maneira personalizada."
      ],
      "metadata": {
        "id": "sNu89m86wY4X"
      }
    },
    {
      "cell_type": "markdown",
      "source": [
        "# Custom Serilization na prática"
      ],
      "metadata": {
        "id": "hazs9xWaQmeF"
      }
    },
    {
      "cell_type": "code",
      "source": [
        "import enum\n",
        "import hashlib\n",
        "import re\n",
        "from typing import Any, Self\n",
        "\n",
        "from pydantic import (\n",
        "    BaseModel,\n",
        "    EmailStr,\n",
        "    Field,\n",
        "    field_serializer,\n",
        "    field_validator,\n",
        "    model_serializer,\n",
        "    model_validator,\n",
        "    SecretStr,\n",
        ")"
      ],
      "metadata": {
        "id": "Ab_x6AC-Qm-n"
      },
      "execution_count": 12,
      "outputs": []
    },
    {
      "cell_type": "markdown",
      "source": [
        "Expressões regulares para validar nomes e senhas"
      ],
      "metadata": {
        "id": "0PI2C0smSLpk"
      }
    },
    {
      "cell_type": "code",
      "source": [
        "VALID_PASSWORD_REGEX = re.compile(r\"^(?=.*[a-z])(?=.*[A-Z])(?=.*\\d).{8,}$\")\n",
        "VALID_NAME_REGEX = re.compile(r\"^[a-zA-Z]{2,}$\")"
      ],
      "metadata": {
        "id": "Ge7j9QLMlbTz"
      },
      "execution_count": 13,
      "outputs": []
    },
    {
      "cell_type": "markdown",
      "source": [
        "A diferença entre o trecho abaixo e os anteriores é o de que Role agora possui um User que recebe zero e que a class User agora conta com um parâmetro novo em field em password, o parâmetro exclude, ou seja, quando o objeto é serializado a senha não é incluída. Incluise agora temos serializers além dos validators, oferecendo mais controle, como em field_serializer de que quando usado um JSON em role, deve-se retornar o nome para poder armazená-lo em formato JSON, o mesmo vale para o model_serializer que agora conta com o \"mode=wrap\"."
      ],
      "metadata": {
        "id": "i98jn4UTSRqE"
      }
    },
    {
      "cell_type": "code",
      "source": [
        "class Role(enum.IntFlag):\n",
        "    Author = 1\n",
        "    Editor = 2\n",
        "    Admin = 4\n",
        "    SuperAdmin = 8\n",
        "\n",
        "\n",
        "class User(BaseModel):\n",
        "    name: str = Field(examples=[\"Lucas_Cristiano\"])\n",
        "    email: EmailStr = Field(\n",
        "        examples=[\"lucas_cristiano@discente.ufg.br\"],\n",
        "        description=\"Email do discente\",\n",
        "        frozen=True,\n",
        "    )\n",
        "    password: SecretStr = Field(\n",
        "        examples=[\"Lucas4321\"], description=\"Senha do Usuário\"\n",
        "    )\n",
        "    role: Role = Field(default=None, description=\"Ocupação do Usuário\")\n",
        "    projeto: str = Field (examples=[\"Fastcamp_Agentes\"])\n",
        "    periodo: str = Field (examples=[\"2025.1\"])\n",
        "    semestre: int = Field (examples=1)\n",
        "\n",
        "    @field_validator(\"name\")\n",
        "    @classmethod\n",
        "    def validate_name(cls, v: str) -> str:\n",
        "        if not VALID_NAME_REGEX.match(v):\n",
        "            raise ValueError(\n",
        "                \"Name is invalid, must contain only letters and be at least 2 characters long\"\n",
        "            )\n",
        "        return v\n",
        "\n",
        "    @field_validator(\"role\", mode=\"before\")\n",
        "    @classmethod\n",
        "    def validate_role(cls, v: int | str | Role) -> Role:\n",
        "        op = {int: lambda x: Role(x), str: lambda x: Role[x], Role: lambda x: x}\n",
        "        try:\n",
        "            return op[type(v)](v)\n",
        "        except (KeyError, ValueError):\n",
        "            raise ValueError(\n",
        "                f\"Role is invalid, please use one of the following: {', '.join([x.name for x in Role])}\"\n",
        "            )\n",
        "\n",
        "    @field_validator(\"semestre\",mode=\"before\") # se semestre for um valor negativo ou maior que dois aparecerá um erro\n",
        "    @classmethod\n",
        "    def validate_semestre(cls, v:int) -> int:\n",
        "        if v < 0:\n",
        "            raise ValueError(\"Semestre não pode ser negativo\")\n",
        "        elif v > 2:\n",
        "            raise ValueError(\"Semestre não pode ser maior que 2\")\n",
        "\n",
        "        return v\n",
        "\n",
        "    @field_validator(\"projeto\",mode=\"before\") # se projeto for vazio irá acontecer um erro\n",
        "    @classmethod\n",
        "    def validate_projeto(cls, v:str) -> str:\n",
        "        if not v:\n",
        "            raise ValueError(\"Projeto não pode ser vazio\")\n",
        "        return v\n",
        "\n",
        "    @field_validator(\"periodo\",mode=\"before\") # se semestre for um valor igual a zero ou vazio aparecerá um erro\n",
        "    @classmethod\n",
        "    def validate_perido(cls, v:str) -> str:\n",
        "        if not v:\n",
        "            raise ValueError(\"Período não pode ser vazio\")\n",
        "        elif v.strip() == \"0\":\n",
        "            raise ValueError(\"Período não pode ser 0\")\n",
        "        return v\n",
        "\n",
        "    @model_validator(mode=\"before\")\n",
        "    @classmethod\n",
        "    def validate_user(cls, v: dict[str, Any]) -> dict[str, Any]:\n",
        "        if \"name\" not in v or \"password\" not in v:\n",
        "            raise ValueError(\"Name and password are required\")\n",
        "        if v[\"name\"].casefold() in v[\"password\"].casefold():\n",
        "            raise ValueError(\"Password cannot contain name\")\n",
        "        if not VALID_PASSWORD_REGEX.match(v[\"password\"]):\n",
        "            raise ValueError(\n",
        "                \"Password is invalid, must contain 8 characters, 1 uppercase, 1 lowercase, 1 number\"\n",
        "            )\n",
        "        v[\"password\"] = hashlib.sha256(v[\"password\"].encode()).hexdigest()\n",
        "        return v\n",
        "\n",
        "    @model_validator(mode=\"after\") # Vai ocorrer a validação depois que o user for criado\n",
        "    def validate_user_post(self, v: Any) -> Self: # vai receber o user\n",
        "        if self.role == Role.Admin and self.name != \"Lucas\": # Se outra pessoa em vez de Lucas for Admin vai dar um erro\n",
        "            raise ValueError(\"Somente Lucas pode ser Admin\")\n",
        "\n",
        "    @field_serializer(\"role\", when_used=\"json\")\n",
        "    @classmethod\n",
        "    def serialize_role(cls, v) -> str:\n",
        "        return v.name\n",
        "\n",
        "    @field_serializer(\"email\", when_used=\"json\")\n",
        "    @classmethod\n",
        "    def serialize_email(cls, v: str) -> str:\n",
        "        return v.lower()  # Garante que o email seja serializado em minúsculas\n",
        "\n",
        "    @field_serializer(\"semestre\", when_used=\"json\")\n",
        "    @classmethod\n",
        "    def serialize_semestre(cls, v: int) -> str:\n",
        "        return f\"Semestre {v}\" # Retornando semestre de forma padronizada e amigável\n",
        "\n",
        "    @model_serializer(mode=\"wrap\", when_used=\"json\")\n",
        "    def serialize_user(self, serializer, info) -> dict[str, Any]:\n",
        "        \"\"\"Define os campos a serem serializados\"\"\"\n",
        "        if not info.include and not info.exclude:\n",
        "            return {\"name\": self.name, \"role\": self.role.name}\n",
        "        return serializer(self)"
      ],
      "metadata": {
        "id": "-dg7stoulsLc"
      },
      "execution_count": 14,
      "outputs": []
    },
    {
      "cell_type": "markdown",
      "source": [
        "# Fast API + Serializer"
      ],
      "metadata": {
        "id": "t3PSFCruVbue"
      }
    },
    {
      "cell_type": "markdown",
      "source": [
        "Instalando o FastAPI"
      ],
      "metadata": {
        "id": "5AZ88v-lYUMV"
      }
    },
    {
      "cell_type": "code",
      "source": [
        "%pip install FastAPI"
      ],
      "metadata": {
        "colab": {
          "base_uri": "https://localhost:8080/"
        },
        "id": "A1oqOp9JVrB2",
        "outputId": "2ef84385-6a3c-443d-fc42-05721458532d"
      },
      "execution_count": 15,
      "outputs": [
        {
          "output_type": "stream",
          "name": "stdout",
          "text": [
            "Requirement already satisfied: FastAPI in /usr/local/lib/python3.11/dist-packages (0.115.11)\n",
            "Requirement already satisfied: starlette<0.47.0,>=0.40.0 in /usr/local/lib/python3.11/dist-packages (from FastAPI) (0.46.0)\n",
            "Requirement already satisfied: pydantic!=1.8,!=1.8.1,!=2.0.0,!=2.0.1,!=2.1.0,<3.0.0,>=1.7.4 in /usr/local/lib/python3.11/dist-packages (from FastAPI) (2.10.6)\n",
            "Requirement already satisfied: typing-extensions>=4.8.0 in /usr/local/lib/python3.11/dist-packages (from FastAPI) (4.12.2)\n",
            "Requirement already satisfied: annotated-types>=0.6.0 in /usr/local/lib/python3.11/dist-packages (from pydantic!=1.8,!=1.8.1,!=2.0.0,!=2.0.1,!=2.1.0,<3.0.0,>=1.7.4->FastAPI) (0.7.0)\n",
            "Requirement already satisfied: pydantic-core==2.27.2 in /usr/local/lib/python3.11/dist-packages (from pydantic!=1.8,!=1.8.1,!=2.0.0,!=2.0.1,!=2.1.0,<3.0.0,>=1.7.4->FastAPI) (2.27.2)\n",
            "Requirement already satisfied: anyio<5,>=3.6.2 in /usr/local/lib/python3.11/dist-packages (from starlette<0.47.0,>=0.40.0->FastAPI) (3.7.1)\n",
            "Requirement already satisfied: idna>=2.8 in /usr/local/lib/python3.11/dist-packages (from anyio<5,>=3.6.2->starlette<0.47.0,>=0.40.0->FastAPI) (3.10)\n",
            "Requirement already satisfied: sniffio>=1.1 in /usr/local/lib/python3.11/dist-packages (from anyio<5,>=3.6.2->starlette<0.47.0,>=0.40.0->FastAPI) (1.3.1)\n"
          ]
        }
      ]
    },
    {
      "cell_type": "markdown",
      "source": [
        "Abaixo temos a importação de datetime para trablhar com datas e horários, Optional (ou seja o campo pode ser None), uuid4 que gera um identificador único aleatório e a própia FastApi. Ao final temos a instância app = FASTAPI para poder adicionar rotas."
      ],
      "metadata": {
        "id": "iiwTZNz2YZBk"
      }
    },
    {
      "cell_type": "code",
      "source": [
        "from datetime import datetime\n",
        "from typing import Optional, List # importando List diferente do original\n",
        "from uuid import uuid4\n",
        "\n",
        "from fastapi import FastAPI\n",
        "from fastapi.responses import JSONResponse\n",
        "from fastapi.testclient import TestClient\n",
        "from pydantic import BaseModel, EmailStr, Field, field_serializer, UUID4\n",
        "\n",
        "app = FastAPI()"
      ],
      "metadata": {
        "id": "HByLR4ERVe5L"
      },
      "execution_count": 16,
      "outputs": []
    },
    {
      "cell_type": "markdown",
      "source": [
        "A diferença desse trecho abaixo em relação aos anteiores da classe User, reside no fato de que este conta conta com opções extras, como por exemplo a configuração que proíbe a adição de atributos extras, ou seja, não é desejável que a API seja chamada, apenas que sejam adicionados vários atributos ao body. Como anteriormente temos name, email, mas agora esses fazem parte de uma API, além desses há atributos adicionais como uma lista de amigos, um ID, uma data e hora opcional e assim como no exemplo anterior podem ser usados serializadores para especificar como retornar esse objeto na API. Abaixo temos o uso da FastAPI onde é declarado um endpoint, para a obtenção de usuários e outro para a criação de usuários, respectivamente \"@app.get\" e \"@app.post\", onde ao receber como argumento User a FastAPI vai garantir que seja feita a validação."
      ],
      "metadata": {
        "id": "o8kn1kauqk4Q"
      }
    },
    {
      "cell_type": "markdown",
      "source": [
        "Na função main temos um cliente de teste para executar os testes"
      ],
      "metadata": {
        "id": "3b5NRt3lsidp"
      }
    },
    {
      "cell_type": "code",
      "source": [
        "class Disciplina(BaseModel):\n",
        "    codigo: str\n",
        "    nome: str\n",
        "    professor: str\n",
        "\n",
        "\n",
        "class Matricula(BaseModel):\n",
        "    id: UUID4 = Field(default_factory=uuid4)\n",
        "    aluno_nome: str\n",
        "    aluno_email: EmailStr\n",
        "    disciplina: Disciplina\n",
        "    periodo: str\n",
        "    matricula_ts: Optional[datetime] = None\n",
        "\n",
        "    @field_serializer(\"matricula_ts\")\n",
        "    def serialize_matricula_ts(self, value: Optional[datetime]):\n",
        "        \"\"\"Converte o timestamp da matrícula para o formato ISO 8601.\"\"\"\n",
        "        return value.isoformat() if value else None\n",
        "\n",
        "    @field_serializer(\"id\")\n",
        "    def serialize_id(self, value: UUID4):\n",
        "        \"\"\"Formata o UUID como string.\"\"\"\n",
        "        return str(value)\n",
        "\n",
        "\n",
        "matriculas: List[Matricula] = []\n",
        "\n",
        "\n",
        "@app.post(\"/matriculas\", response_model=Matricula)\n",
        "def criar_matricula(matricula: Matricula):\n",
        "    \"\"\"Cria uma nova matrícula e define o timestamp.\"\"\"\n",
        "    matricula.matricula_ts = datetime.utcnow()\n",
        "    matriculas.append(matricula)\n",
        "    return matricula\n",
        "\n",
        "\n",
        "@app.get(\"/matriculas\", response_model=List[Matricula])\n",
        "def listar_matriculas():\n",
        "    \"\"\"Retorna todas as matrículas.\"\"\"\n",
        "    return matriculas\n",
        "\n",
        "\n",
        "@app.get(\"/matriculas/{matricula_id}\", response_model=Matricula)\n",
        "def obter_matricula(matricula_id: UUID4):\n",
        "    \"\"\"Retorna a matrícula com o ID especificado.\"\"\"\n",
        "    matricula = next((m for m in matriculas if m.id == matricula_id), None)\n",
        "    if matricula:\n",
        "        return matricula\n",
        "    return JSONResponse(status_code=404, content={\"message\": \"Matrícula não encontrada\"})\n",
        "\n",
        "\n",
        "def main() -> None:\n",
        "    with TestClient(app) as client:\n",
        "        for i in range(5):\n",
        "            response = client.post(\n",
        "                \"/matriculas\",\n",
        "                json={\n",
        "                    \"aluno_nome\": f\"Aluno {i}\",\n",
        "                    \"aluno_email\": f\"aluno{i}@example.com\",\n",
        "                    \"disciplina\": {\"codigo\": f\"COD{i}\", \"nome\": f\"Disciplina {i}\", \"professor\": f\"Professor {i}\"},\n",
        "                    \"periodo\": \"2023.2\",\n",
        "                },\n",
        "            )\n",
        "            assert response.status_code == 200\n",
        "            assert response.json()[\"aluno_nome\"] == f\"Aluno {i}\"\n",
        "            assert response.json()[\"id\"]\n",
        "\n",
        "            matricula = Matricula.model_validate(response.json())\n",
        "            assert str(matricula.id) == response.json()[\"id\"]\n",
        "            assert matricula.matricula_ts\n",
        "\n",
        "        response = client.get(\"/matriculas\")\n",
        "        assert response.status_code == 200\n",
        "        assert len(response.json()) == 5\n",
        "\n",
        "        response = client.post(\n",
        "            \"/matriculas\",\n",
        "            json={\n",
        "                \"aluno_nome\": \"Aluno 5\",\n",
        "                \"aluno_email\": \"aluno5@example.com\",\n",
        "                \"disciplina\": {\"codigo\": \"COD5\", \"nome\": \"Disciplina 5\", \"professor\": \"Professor 5\"},\n",
        "                \"periodo\": \"2023.2\",\n",
        "            },\n",
        "        )\n",
        "        assert response.status_code == 200\n",
        "        assert response.json()[\"aluno_nome\"] == \"Aluno 5\"\n",
        "        assert response.json()[\"id\"]\n",
        "\n",
        "        matricula = Matricula.model_validate(response.json())\n",
        "        assert str(matricula.id) == response.json()[\"id\"]\n",
        "        assert matricula.matricula_ts\n",
        "\n",
        "        response = client.get(f\"/matriculas/{response.json()['id']}\")\n",
        "        assert response.status_code == 200\n",
        "        assert response.json()[\"aluno_nome\"] == \"Aluno 5\"\n",
        "\n",
        "        response = client.get(f\"/matriculas/{uuid4()}\")\n",
        "        assert response.status_code == 404\n",
        "        assert response.json()[\"message\"] == \"Matrícula não encontrada\"\n",
        "\n",
        "\n",
        "if __name__ == \"__main__\":\n",
        "    main()"
      ],
      "metadata": {
        "id": "-HU4mzp_7t3T"
      },
      "execution_count": 17,
      "outputs": []
    },
    {
      "cell_type": "markdown",
      "source": [
        "O código acima usa o FASTAPI para gerenciar matriculas de alunos em matérias da faculdade, ele possui duas classes para funcionar Dicplina e Matricula, que respectivamente contêm (código, nome e professor) e (ID único, nome do aluno, email, disciplina, período e timestamp). A API possuí três rotas com três funções criar matriculas (Post/Matriculas), listar todas as matriculas (Get/matriculas) e obter matricula pelo ID do aluno (Get/matriculas/{matricula_id}). Na função main temos testes para avaliar se a matricula foi realizda."
      ],
      "metadata": {
        "id": "uEE46vVa9Cdb"
      }
    }
  ]
}