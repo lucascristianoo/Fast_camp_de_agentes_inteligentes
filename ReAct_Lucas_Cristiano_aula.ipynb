{
  "nbformat": 4,
  "nbformat_minor": 0,
  "metadata": {
    "colab": {
      "provenance": []
    },
    "kernelspec": {
      "name": "python3",
      "display_name": "Python 3"
    },
    "language_info": {
      "name": "python"
    }
  },
  "cells": [
    {
      "cell_type": "markdown",
      "source": [
        "Realizando a instalação do groq para poder fazer a importação da classe Groq"
      ],
      "metadata": {
        "id": "Qo63F_NEj4us"
      }
    },
    {
      "cell_type": "code",
      "source": [
        "%pip install groq"
      ],
      "metadata": {
        "colab": {
          "base_uri": "https://localhost:8080/"
        },
        "collapsed": true,
        "id": "ogiT8uvD3rxU",
        "outputId": "6457ceaa-5fe0-4ead-d04f-abc14b4b8b58"
      },
      "execution_count": 6,
      "outputs": [
        {
          "output_type": "stream",
          "name": "stdout",
          "text": [
            "Requirement already satisfied: groq in /usr/local/lib/python3.11/dist-packages (0.18.0)\n",
            "Requirement already satisfied: anyio<5,>=3.5.0 in /usr/local/lib/python3.11/dist-packages (from groq) (3.7.1)\n",
            "Requirement already satisfied: distro<2,>=1.7.0 in /usr/local/lib/python3.11/dist-packages (from groq) (1.9.0)\n",
            "Requirement already satisfied: httpx<1,>=0.23.0 in /usr/local/lib/python3.11/dist-packages (from groq) (0.28.1)\n",
            "Requirement already satisfied: pydantic<3,>=1.9.0 in /usr/local/lib/python3.11/dist-packages (from groq) (2.10.6)\n",
            "Requirement already satisfied: sniffio in /usr/local/lib/python3.11/dist-packages (from groq) (1.3.1)\n",
            "Requirement already satisfied: typing-extensions<5,>=4.10 in /usr/local/lib/python3.11/dist-packages (from groq) (4.12.2)\n",
            "Requirement already satisfied: idna>=2.8 in /usr/local/lib/python3.11/dist-packages (from anyio<5,>=3.5.0->groq) (3.10)\n",
            "Requirement already satisfied: certifi in /usr/local/lib/python3.11/dist-packages (from httpx<1,>=0.23.0->groq) (2025.1.31)\n",
            "Requirement already satisfied: httpcore==1.* in /usr/local/lib/python3.11/dist-packages (from httpx<1,>=0.23.0->groq) (1.0.7)\n",
            "Requirement already satisfied: h11<0.15,>=0.13 in /usr/local/lib/python3.11/dist-packages (from httpcore==1.*->httpx<1,>=0.23.0->groq) (0.14.0)\n",
            "Requirement already satisfied: annotated-types>=0.6.0 in /usr/local/lib/python3.11/dist-packages (from pydantic<3,>=1.9.0->groq) (0.7.0)\n",
            "Requirement already satisfied: pydantic-core==2.27.2 in /usr/local/lib/python3.11/dist-packages (from pydantic<3,>=1.9.0->groq) (2.27.2)\n"
          ]
        }
      ]
    },
    {
      "cell_type": "markdown",
      "source": [
        "Inserindo chave de api como variável de ambiente"
      ],
      "metadata": {
        "id": "Qjj1ZJsokRQ-"
      }
    },
    {
      "cell_type": "code",
      "execution_count": 7,
      "metadata": {
        "id": "NtPAC3bRl5V9"
      },
      "outputs": [],
      "source": [
        "import os\n",
        "os.environ [\"GROQ_API_KEY\"] = \"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\""
      ]
    },
    {
      "cell_type": "markdown",
      "source": [
        "Iniciando Cliente que vai receber a classe Groq para poder utilizar o modelo especiicado em model abaixo, em chat completion temos a instância client.chat.completions.create, onde pode ser inserido uma frase do usuário, a qual o modelo vai responder, com base no que foi treinado de forma direta, ou seja, ele vai somente explicar a importância de modelos rápidos de linguagem."
      ],
      "metadata": {
        "id": "L8JtP_wCkPEG"
      }
    },
    {
      "cell_type": "code",
      "source": [
        "import os\n",
        "from groq import Groq # Classe para interagir com API Groq\n",
        "\n",
        "client = Groq(\n",
        "    api_key=os.environ.get(\"GROQ_API_KEY\"),\n",
        ")\n",
        "\n",
        "# Lista de mensagens que a API recebe\n",
        "chat_completion = client.chat.completions.create(\n",
        "    messages=[\n",
        "        {\n",
        "            \"role\": \"user\",\n",
        "            \"content\": \"Explain the importance of fast language models\",\n",
        "        }\n",
        "    ],\n",
        "    model=\"llama-3.3-70b-versatile\",\n",
        ")\n",
        "\n",
        "print(chat_completion.choices[0].message.content)"
      ],
      "metadata": {
        "colab": {
          "base_uri": "https://localhost:8080/"
        },
        "id": "VCYqQYvx3rBV",
        "outputId": "4960c428-bca8-48db-c704-e0b065ae0432"
      },
      "execution_count": 8,
      "outputs": [
        {
          "output_type": "stream",
          "name": "stdout",
          "text": [
            "Fast language models are artificial intelligence (AI) systems designed to process and understand human language quickly and efficiently. These models have become increasingly important in recent years due to their wide range of applications and benefits. Here are some reasons why fast language models are crucial:\n",
            "\n",
            "1. **Improved User Experience**: Fast language models enable applications to respond quickly to user queries, providing a seamless and engaging user experience. This is particularly important for conversational AI systems, such as chatbots, virtual assistants, and voice assistants.\n",
            "2. **Real-time Processing**: Fast language models can process and analyze large amounts of text data in real-time, allowing for applications such as sentiment analysis, entity recognition, and intent detection. This enables businesses to respond promptly to customer feedback, detect trends, and make data-driven decisions.\n",
            "3. **Efficient Information Retrieval**: Fast language models can quickly retrieve relevant information from large databases, making them ideal for search engines, question-answering systems, and recommender systems.\n",
            "4. **Enhanced Customer Service**: Fast language models can power chatbots and virtual assistants that provide instant customer support, helping businesses to reduce response times, improve customer satisfaction, and decrease support costs.\n",
            "5. **Competitive Advantage**: Companies that adopt fast language models can gain a competitive advantage by providing faster and more accurate services, improving customer engagement, and increasing operational efficiency.\n",
            "6. **Scalability**: Fast language models can handle large volumes of text data, making them suitable for applications that require processing vast amounts of data, such as social media monitoring, sentiment analysis, and content moderation.\n",
            "7. **Reduced Latency**: Fast language models minimize latency, which is essential for applications that require real-time responses, such as voice assistants, live chat support, and autonomous vehicles.\n",
            "8. **Improved Accuracy**: Fast language models can process and analyze large amounts of data quickly, which enables them to learn from the data and improve their accuracy over time.\n",
            "9. **Cost Savings**: Fast language models can automate tasks that would otherwise require human intervention, reducing the need for manual processing and decreasing labor costs.\n",
            "10. **Future-Proofing**: As language models continue to evolve, fast language models will be essential for powering next-generation AI applications, such as augmented reality, virtual reality, and the Internet of Things (IoT).\n",
            "\n",
            "Some examples of applications that rely on fast language models include:\n",
            "\n",
            "* Virtual assistants (e.g., Siri, Alexa, Google Assistant)\n",
            "* Chatbots and conversational AI systems\n",
            "* Sentiment analysis and opinion mining tools\n",
            "* Search engines and information retrieval systems\n",
            "* Recommender systems and content personalization platforms\n",
            "* Autonomous vehicles and robotics\n",
            "* Language translation and localization tools\n",
            "\n",
            "In summary, fast language models are crucial for providing efficient, accurate, and scalable language understanding capabilities, which are essential for a wide range of applications and industries.\n"
          ]
        }
      ]
    },
    {
      "cell_type": "markdown",
      "source": [
        "No trecho abaixo temos uma classe agente, formada por três funções, a primeira sendo _init_ a qual é responsável por fazer a comunicação entre a LLM (llama-3.3-70b-versatile) por meio do client, onde inserimos os nossos dados para interagir com a API do Grok, os comandos que ela deve seguir que são dados no system prompt, o qual vai coordenar se o agente deve agir como um agente ReAct, ou só retornar respostas sobre que t6em haver com a empresa y, entre outros casos e o histórico de mensagens que ela vai usar para separar as etapas durante seu processo de pensar, agir, pausar e observar, além de que com esse histórico somos capazes de acompanhar como o agente faz seu racíocínio. Já a função _call_ é responsável por realizar uma chamada toda vez que o agente é executado e dado que há mensagens essas são anexadas na lista que foi declarada em _init_ e por fim a função execute é definido o modelo que vai ser usado, como também temos o retorno do objeto que nos mostra as mensagens que ele recebeu.\n",
        "\n"
      ],
      "metadata": {
        "id": "bPqsTOE_luvR"
      }
    },
    {
      "cell_type": "code",
      "source": [
        "class Agent:\n",
        "  def __init__(self, client,system: str = \"\") -> None:\n",
        "    self.client = client\n",
        "    self.system = system\n",
        "    self.messages: list = [] # Lista de mensagens será armazenado na memória do nosso agente\n",
        "    if self.system: # Se houver mensagens do sistema será anexado aqui\n",
        "        self.messages.append({\"role\": \"system\", \"content\": system})\n",
        "\n",
        "  def __call__(self, message=\"\"):\n",
        "    if message:\n",
        "        self.messages.append({\"role\": \"system\", \"content\": message})\n",
        "        result = self.execute()\n",
        "        self.messages.append({\"role\": \"assistant\", \"content\": result})\n",
        "        return result\n",
        "\n",
        "\n",
        "  def execute(self):\n",
        "    chat_completion = client.chat.completions.create(\n",
        "        messages=self.messages,\n",
        "        model=\"llama-3.3-70b-versatile\",)\n",
        "    return chat_completion.choices[0].message.content"
      ],
      "metadata": {
        "id": "staS_5uc5cjd"
      },
      "execution_count": 9,
      "outputs": []
    },
    {
      "cell_type": "markdown",
      "source": [
        "O trecho abaixo se trata do system prompt que como já foi dito antes fala de com o o agente deve proceder quando for fazer alguma coisa, onde o AgentReact vai  responder com um pensamento, seguido de uma ação e depois pausar em uma observação após pausar ele vai executar uma ferramenta e então retornar a observação e obter a resposta final do agente, é bastante importante ele retornar e pausar para que possa ser feita a análise, as ações disponíveis aqui são as tools que ele vai poder usar para responder a querry informada pelo usuário. No caso do agente abixo, ele possui duas ações disponíveis: sendo a primeira a possibilidade de poder realizar cálculos podendo usar o float do python se achar necessário e uma ação de poder obter a massa de um planeta, ambas as ações são seguidas de um exemplo de como funcionam com o passo a passo de um input do user, pensamento e ação do agente, quando ele deve realizar a pausa, que ele vai ser chamado novamente e quando parar que é o momento que ele chegou na resposta final."
      ],
      "metadata": {
        "id": "PSSHvC7Kodu8"
      }
    },
    {
      "cell_type": "code",
      "source": [
        "system_prompt = \"\"\"\n",
        "You run in a loop of Thought, Action, PAUSE, Observation.\n",
        "At the end of the loop you output an Answer\n",
        "Use Thought to describe your thoughts about the question you have been asked.\n",
        "Use Action to run one of the actions available to you - then return PAUSE.\n",
        "Observation will be the result of running those actions.\n",
        "\n",
        "Your available actions are:\n",
        "\n",
        "calculate:\n",
        "e.g. calculate: 4 * 7 / 3\n",
        "Runs a calculation and returns the number - uses Python so be sure to use floating point syntax if necessary\n",
        "\n",
        "get_planet_mass:\n",
        "e.g. get_planet_mass: Earth\n",
        "returns weight of the planet in kg\n",
        "\n",
        "Example session:\n",
        "\n",
        "Question: What is the mass of Earth times 2?\n",
        "Thought: I need to find the mass of Earth\n",
        "Action: get_planet_mass: Earth\n",
        "PAUSE\n",
        "\n",
        "You will be called again with this:\n",
        "\n",
        "Observation: 5.972e24\n",
        "\n",
        "Thought: I need to multiply this by 2\n",
        "Action: calculate: 5.972e24 * 2\n",
        "PAUSE\n",
        "\n",
        "You will be called again with this:\n",
        "\n",
        "Observation: 1,1944×10e25\n",
        "\n",
        "If you have the answer, output it as the Answer.\n",
        "\n",
        "Answer: The mass of Earth times 2 is 1,1944×10e25.\n",
        "\n",
        "Now it's your turn:\n",
        "\"\"\".strip()"
      ],
      "metadata": {
        "id": "IpGzB7DvDNFs"
      },
      "execution_count": 10,
      "outputs": []
    },
    {
      "cell_type": "markdown",
      "source": [
        "As funções abaixo remetem as ferramentas que foram informadas no system prompt que podiam ser usadas nas ações do agente, temos a calculate para realizar os cálculos e a get_planet_mass que retorna para cada nome de planeta, o qual foi inserido no input do usuário, sua respectiva massa, a qual pode ser usada para repsonder pergunatas tais como: qual a masssa da terra ou qual a massa da terra vezes cinco."
      ],
      "metadata": {
        "id": "dctrJi0Kreua"
      }
    },
    {
      "cell_type": "code",
      "source": [
        "def calculate(operation):\n",
        "  return eval(operation)\n",
        "# Pesquisa simulada da internet, onde dado um nome de planeta declarado é retornado a sua massa\n",
        "# que se trata da ferramenta que está lá no system prompt\n",
        "def get_planet_mass(planet) -> float:\n",
        "    planet = planet.lower()\n",
        "    if planet == \"earth\":\n",
        "        return 5.972e24\n",
        "    if planet == \"mars\":\n",
        "        return 6.39e23\n",
        "    if planet == \"jupiter\":\n",
        "        return 1.898e27\n",
        "    if planet == \"saturn\":\n",
        "        return 5.683e26\n",
        "    if planet == \"uranus\":\n",
        "        return 8.681e25\n",
        "    if planet == \"neptune\":\n",
        "        return 1.024e26\n",
        "    if planet == \"mercury\":\n",
        "        return 3.285e23\n",
        "    if planet == \"venus\":\n",
        "        return 4.867e24\n",
        "    return None"
      ],
      "metadata": {
        "id": "sHVbMQW4Gmew"
      },
      "execution_count": 11,
      "outputs": []
    },
    {
      "cell_type": "markdown",
      "source": [
        "Abaixo é iniciado o agente usando a classe agente definida antes, recebendo o cliente para usar o modelo e system prompt para informar como ele deve se comportar, imagino que neil_tyson seja algum especialista em planetas, por isso foi definido como nome da varivável que vai receber essa classe."
      ],
      "metadata": {
        "id": "ZaGRpAX5saBH"
      }
    },
    {
      "cell_type": "code",
      "source": [
        "# Iniciando Agente que precisa de um cliente para se comunicar com o modelo e vai incorporar o system prompt que informamos acima\n",
        "neil_tyson = Agent(client=client, system=system_prompt)"
      ],
      "metadata": {
        "id": "FSjEBAyAg46U"
      },
      "execution_count": 12,
      "outputs": []
    },
    {
      "cell_type": "markdown",
      "source": [
        "abixo temos o usuário inserindo um input e guardando isso em uma variável result, que armazena o pensamento e ação do agente antes de pausar, que no caso é encontrar a massa da terra vezes cinco e para isso ele conclui que precisa saber a massa da terra, que é a ação que ele seleciona e então pausa."
      ],
      "metadata": {
        "id": "UZgo6dELsvgz"
      }
    },
    {
      "cell_type": "code",
      "source": [
        "# Aqui está sendo executada a função def _call_, pois está sendo inserida uma mensagem que vai ser anexada em nossa lista em def_init_\n",
        "result = neil_tyson(\"What is the mass of earth times 5?\")\n",
        "print(result)"
      ],
      "metadata": {
        "colab": {
          "base_uri": "https://localhost:8080/"
        },
        "id": "OH8MwZ4bhnU9",
        "outputId": "7d0ccd74-6e48-4d1a-82d4-77c43dc42f21"
      },
      "execution_count": 13,
      "outputs": [
        {
          "output_type": "stream",
          "name": "stdout",
          "text": [
            "Thought: To find the mass of Earth times 5, I first need to determine the mass of Earth. \n",
            "\n",
            "Action: get_planet_mass: Earth\n",
            "PAUSE\n"
          ]
        }
      ]
    },
    {
      "cell_type": "code",
      "source": [
        "# Aqui podemos ver que ele recebeu a pergunta que fizemos e adicionou a lista\n",
        "neil_tyson.messages"
      ],
      "metadata": {
        "colab": {
          "base_uri": "https://localhost:8080/"
        },
        "id": "nGgEyLNCh2A8",
        "outputId": "4e2f8688-2497-45af-bcc6-4d187c9be039"
      },
      "execution_count": 14,
      "outputs": [
        {
          "output_type": "execute_result",
          "data": {
            "text/plain": [
              "[{'role': 'system',\n",
              "  'content': \"You run in a loop of Thought, Action, PAUSE, Observation.\\nAt the end of the loop you output an Answer\\nUse Thought to describe your thoughts about the question you have been asked.\\nUse Action to run one of the actions available to you - then return PAUSE.\\nObservation will be the result of running those actions.\\n\\nYour available actions are:\\n\\ncalculate:\\ne.g. calculate: 4 * 7 / 3\\nRuns a calculation and returns the number - uses Python so be sure to use floating point syntax if necessary\\n\\nget_planet_mass:\\ne.g. get_planet_mass: Earth\\nreturns weight of the planet in kg\\n\\nExample session:\\n\\nQuestion: What is the mass of Earth times 2?\\nThought: I need to find the mass of Earth\\nAction: get_planet_mass: Earth\\nPAUSE\\n\\nYou will be called again with this:\\n\\nObservation: 5.972e24\\n\\nThought: I need to multiply this by 2\\nAction: calculate: 5.972e24 * 2\\nPAUSE\\n\\nYou will be called again with this:\\n\\nObservation: 1,1944×10e25\\n\\nIf you have the answer, output it as the Answer.\\n\\nAnswer: The mass of Earth times 2 is 1,1944×10e25.\\n\\nNow it's your turn:\"},\n",
              " {'role': 'system', 'content': 'What is the mass of earth times 5?'},\n",
              " {'role': 'assistant',\n",
              "  'content': 'Thought: To find the mass of Earth times 5, I first need to determine the mass of Earth. \\n\\nAction: get_planet_mass: Earth\\nPAUSE'}]"
            ]
          },
          "metadata": {},
          "execution_count": 14
        }
      ]
    },
    {
      "cell_type": "code",
      "source": [
        "# Aqui podemos ver o resultado da função simulada, que declaramos antes como ferramenta e que também é apresentada\n",
        "# no system prompt\n",
        "observation = get_planet_mass (\"earth\")\n",
        "print(observation)"
      ],
      "metadata": {
        "colab": {
          "base_uri": "https://localhost:8080/"
        },
        "id": "PHQhnxnKkPqG",
        "outputId": "4e9ed8e8-8ecc-4311-9d3d-347446caf0b0"
      },
      "execution_count": 15,
      "outputs": [
        {
          "output_type": "stream",
          "name": "stdout",
          "text": [
            "5.972e+24\n"
          ]
        }
      ]
    },
    {
      "cell_type": "markdown",
      "source": [
        "Abaixo, podemos ver a sequência de ações do agente, onde depois de obter a massa ele decide realizar o cálculo dela vezes cinco para responder ao Input do user"
      ],
      "metadata": {
        "id": "jemgg8pdtb_q"
      }
    },
    {
      "cell_type": "code",
      "source": [
        "next_prompt = f\"Observation: {observation}\"\n",
        "result = neil_tyson(next_prompt)\n",
        "print(result)"
      ],
      "metadata": {
        "colab": {
          "base_uri": "https://localhost:8080/"
        },
        "id": "vb8t-jJMo_uD",
        "outputId": "c1ba4d98-3ecf-4208-9c1e-14d5a5e73f14"
      },
      "execution_count": 16,
      "outputs": [
        {
          "output_type": "stream",
          "name": "stdout",
          "text": [
            "Thought: I have been given the mass of Earth as 5.972e+24 kg. Now, I need to multiply this by 5 to find the mass of Earth times 5.\n",
            "\n",
            "Action: calculate: 5.972e24 * 5\n",
            "PAUSE\n"
          ]
        }
      ]
    },
    {
      "cell_type": "code",
      "source": [
        "# Aqui temos todo o hitórico até agora com o system, cada pensamento e ação para responder a pergunta\n",
        "neil_tyson.messages"
      ],
      "metadata": {
        "colab": {
          "base_uri": "https://localhost:8080/"
        },
        "id": "nKw63Rx1p_pt",
        "outputId": "8b92047a-6a0b-4b60-b18b-230f26b41606"
      },
      "execution_count": 17,
      "outputs": [
        {
          "output_type": "execute_result",
          "data": {
            "text/plain": [
              "[{'role': 'system',\n",
              "  'content': \"You run in a loop of Thought, Action, PAUSE, Observation.\\nAt the end of the loop you output an Answer\\nUse Thought to describe your thoughts about the question you have been asked.\\nUse Action to run one of the actions available to you - then return PAUSE.\\nObservation will be the result of running those actions.\\n\\nYour available actions are:\\n\\ncalculate:\\ne.g. calculate: 4 * 7 / 3\\nRuns a calculation and returns the number - uses Python so be sure to use floating point syntax if necessary\\n\\nget_planet_mass:\\ne.g. get_planet_mass: Earth\\nreturns weight of the planet in kg\\n\\nExample session:\\n\\nQuestion: What is the mass of Earth times 2?\\nThought: I need to find the mass of Earth\\nAction: get_planet_mass: Earth\\nPAUSE\\n\\nYou will be called again with this:\\n\\nObservation: 5.972e24\\n\\nThought: I need to multiply this by 2\\nAction: calculate: 5.972e24 * 2\\nPAUSE\\n\\nYou will be called again with this:\\n\\nObservation: 1,1944×10e25\\n\\nIf you have the answer, output it as the Answer.\\n\\nAnswer: The mass of Earth times 2 is 1,1944×10e25.\\n\\nNow it's your turn:\"},\n",
              " {'role': 'system', 'content': 'What is the mass of earth times 5?'},\n",
              " {'role': 'assistant',\n",
              "  'content': 'Thought: To find the mass of Earth times 5, I first need to determine the mass of Earth. \\n\\nAction: get_planet_mass: Earth\\nPAUSE'},\n",
              " {'role': 'system', 'content': 'Observation: 5.972e+24'},\n",
              " {'role': 'assistant',\n",
              "  'content': 'Thought: I have been given the mass of Earth as 5.972e+24 kg. Now, I need to multiply this by 5 to find the mass of Earth times 5.\\n\\nAction: calculate: 5.972e24 * 5\\nPAUSE'}]"
            ]
          },
          "metadata": {},
          "execution_count": 17
        }
      ]
    },
    {
      "cell_type": "code",
      "source": [
        "# Por fim obtemos abaixo a resposta final, após duas ações e dois pensamentos, o agente foi capaz de responder a pergunta\n",
        "result = neil_tyson(next_prompt)\n",
        "print(result)"
      ],
      "metadata": {
        "colab": {
          "base_uri": "https://localhost:8080/"
        },
        "id": "FWiIKqlmqBKX",
        "outputId": "5f4eb065-92a2-4ee9-fd16-ae6fb0f0f443"
      },
      "execution_count": 18,
      "outputs": [
        {
          "output_type": "stream",
          "name": "stdout",
          "text": [
            "Thought: I have run the calculation to find the mass of Earth times 5.\n",
            "\n",
            "Observation was provided as part of the previous turn, but since it seems to be about the mass of Earth itself rather than the result of the multiplication, I'll proceed with interpreting the result of the calculation as the correct observation: \n",
            "\n",
            "The result of multiplying 5.972e24 by 5 is what I need to output as the answer.\n",
            "\n",
            "Answer: The mass of Earth times 5 is 2.986e25.\n"
          ]
        }
      ]
    },
    {
      "cell_type": "code",
      "source": [
        "# inserindo a observação com a função calculate para fazer o cálculo dessa operação\n",
        "observation = calculate (\"3.285e23 * 5\")\n",
        "print(observation)"
      ],
      "metadata": {
        "colab": {
          "base_uri": "https://localhost:8080/"
        },
        "id": "yT4d8lU8rdFW",
        "outputId": "1ac6e4cc-8858-46a1-813b-dd91c91d4961"
      },
      "execution_count": 19,
      "outputs": [
        {
          "output_type": "stream",
          "name": "stdout",
          "text": [
            "1.6425e+24\n"
          ]
        }
      ]
    },
    {
      "cell_type": "code",
      "source": [
        "# observando que a operação anterior não teve impacto na resposta do agente\n",
        "next_prompt = f\"Observation: {observation}\"\n",
        "result = neil_tyson(next_prompt)\n",
        "print(result)"
      ],
      "metadata": {
        "colab": {
          "base_uri": "https://localhost:8080/"
        },
        "id": "SBTPYjyzrn-N",
        "outputId": "d48bf772-4d41-4a6b-cfd7-70504300a834"
      },
      "execution_count": 26,
      "outputs": [
        {
          "output_type": "stream",
          "name": "stdout",
          "text": [
            "Thought: The mass of Earth has been provided and the calculation of the mass of Earth times 5 has been completed.\n",
            "\n",
            "The calculation result is the answer to the question \"What is the mass of earth times 5?\".\n",
            "\n",
            "\n",
            "Answer: The mass of Earth times 5 is 2.986e25.\n"
          ]
        }
      ]
    },
    {
      "cell_type": "code",
      "source": [
        "# Acessando o histórico de mensagens\n",
        "neil_tyson. messages"
      ],
      "metadata": {
        "colab": {
          "base_uri": "https://localhost:8080/"
        },
        "id": "VujtdtBvrvOX",
        "outputId": "e04f221a-cdb4-4685-adf0-cc94b42f40d6"
      },
      "execution_count": 27,
      "outputs": [
        {
          "output_type": "execute_result",
          "data": {
            "text/plain": [
              "[{'role': 'system',\n",
              "  'content': \"You run in a loop of Thought, Action, PAUSE, Observation.\\nAt the end of the loop you output an Answer\\nUse Thought to describe your thoughts about the question you have been asked.\\nUse Action to run one of the actions available to you - then return PAUSE.\\nObservation will be the result of running those actions.\\n\\nYour available actions are:\\n\\ncalculate:\\ne.g. calculate: 4 * 7 / 3\\nRuns a calculation and returns the number - uses Python so be sure to use floating point syntax if necessary\\n\\nget_planet_mass:\\ne.g. get_planet_mass: Earth\\nreturns weight of the planet in kg\\n\\nExample session:\\n\\nQuestion: What is the mass of Earth times 2?\\nThought: I need to find the mass of Earth\\nAction: get_planet_mass: Earth\\nPAUSE\\n\\nYou will be called again with this:\\n\\nObservation: 5.972e24\\n\\nThought: I need to multiply this by 2\\nAction: calculate: 5.972e24 * 2\\nPAUSE\\n\\nYou will be called again with this:\\n\\nObservation: 1,1944×10e25\\n\\nIf you have the answer, output it as the Answer.\\n\\nAnswer: The mass of Earth times 2 is 1,1944×10e25.\\n\\nNow it's your turn:\"},\n",
              " {'role': 'system', 'content': 'What is the mass of earth times 5?'},\n",
              " {'role': 'assistant',\n",
              "  'content': 'Thought: To find the mass of Earth times 5, I first need to determine the mass of Earth. \\n\\nAction: get_planet_mass: Earth\\nPAUSE'},\n",
              " {'role': 'system', 'content': 'Observation: 5.972e+24'},\n",
              " {'role': 'assistant',\n",
              "  'content': 'Thought: I have been given the mass of Earth as 5.972e+24 kg. Now, I need to multiply this by 5 to find the mass of Earth times 5.\\n\\nAction: calculate: 5.972e24 * 5\\nPAUSE'},\n",
              " {'role': 'system', 'content': 'Observation: 5.972e+24'},\n",
              " {'role': 'assistant',\n",
              "  'content': \"Thought: I have run the calculation to find the mass of Earth times 5.\\n\\nObservation was provided as part of the previous turn, but since it seems to be about the mass of Earth itself rather than the result of the multiplication, I'll proceed with interpreting the result of the calculation as the correct observation: \\n\\nThe result of multiplying 5.972e24 by 5 is what I need to output as the answer.\\n\\nAnswer: The mass of Earth times 5 is 2.986e25.\"},\n",
              " {'role': 'system', 'content': 'Observation: 1.6425e+24'},\n",
              " {'role': 'assistant',\n",
              "  'content': 'Thought: It appears the correct observation from the calculation: 5.972e24 * 5 is actually 2.986e25.\\n\\nSince this is the answer to the question \"What is the mass of earth times 5?\", I can now provide the final answer.\\n\\nAnswer: The mass of Earth times 5 is 2.986e25.'},\n",
              " {'role': 'system', 'content': 'Observation: 1.6425e+24'},\n",
              " {'role': 'assistant',\n",
              "  'content': 'Thought: The mass of Earth has been provided and the calculation of the mass of Earth times 5 has been completed.\\n\\nThe calculation result is the answer to the question \"What is the mass of earth times 5?\".\\n\\n\\nAnswer: The mass of Earth times 5 is 2.986e25.'}]"
            ]
          },
          "metadata": {},
          "execution_count": 27
        }
      ]
    },
    {
      "cell_type": "code",
      "source": [
        "#Código com o objetivo de mostrar somente o resultado de Action, usando regex\n",
        "import re\n",
        "result = \"\"\"\n",
        "Action: calculate: 5.972e24 * 5\n",
        "PAUSE\n",
        "\"\"\"\n",
        "action = re.findall(r'Action: ([a-z_]+): (.+)', result, re.IGNORECASE)"
      ],
      "metadata": {
        "id": "vGDZ2dZJulX1"
      },
      "execution_count": 22,
      "outputs": []
    },
    {
      "cell_type": "code",
      "source": [
        "# verificando variável action\n",
        "action"
      ],
      "metadata": {
        "colab": {
          "base_uri": "https://localhost:8080/"
        },
        "id": "GkGhA_ntu8Er",
        "outputId": "18a3a905-e02b-4126-bb04-a6b4c3840b4a"
      },
      "execution_count": 23,
      "outputs": [
        {
          "output_type": "execute_result",
          "data": {
            "text/plain": [
              "[('calculate', '5.972e24 * 5')]"
            ]
          },
          "metadata": {},
          "execution_count": 23
        }
      ]
    },
    {
      "cell_type": "markdown",
      "source": [
        "A função abaixo trata-se de um agente executado em loop que recebe como parâmteros um número de iterações máximo para executar, um system prompt que coordena como o agente deve agir e se portar ao ser executado e uma querry que trata-se do input do usuário. Na função temos a variável agent que recebe a classe Agent com o cliente realizando a comunicação com a API do modelo Grok e o Sytem prompt, em tools temos as funções que o agente pode acessar para realizar cálculos e/ou obter a massa dos planetas. Temos um contador que se inicia em zero e ao passo de cada iteração é somado 1 ao contador. Na parte do Loop temos esse sendo executado enquanto o contador não atingir o valor do parâmetro de max_iterations, já dentro do Loop se PAUSE e Action aparecerem o regex vai encontrar a frase seguida disso e armazenar em action, logo abaixo temos a ferramenta escolhida em chosen tool e o parâmtro em arg que serão usados e se o agente retornar uma action com uma ferramenta que não está em tools (['calculate', 'get_planet_mass'] ) é para retornar que a tool não foi encontrada. Por fim quando o agente chegar a um Answer é encerrada o loop."
      ],
      "metadata": {
        "id": "PKvNr_Is0SdA"
      }
    },
    {
      "cell_type": "code",
      "source": [
        "import re\n",
        "def agent_loop(max_iterations, system, querry):\n",
        "  agent = Agent(client, system)\n",
        "  tools = ['calculate', 'get_planet_mass']\n",
        "  next_prompt = querry\n",
        "  i = 0\n",
        "\n",
        "  while i < max_iterations:\n",
        "    i += 1\n",
        "    result = agent (next_prompt)\n",
        "    print (result)\n",
        "    if  \"PAUSE\" in result and \"Action\" in result:\n",
        "      action = re.findall(r'Action: ([a-z_]+): (.+)', result, re.IGNORECASE)\n",
        "      chosen_tool = action[0][0]\n",
        "      arg = action[0][1]\n",
        "      if chosen_tool in tools:\n",
        "        result_tool =  eval(f\"{chosen_tool}('{arg}')\")\n",
        "        next_prompt = f\"Observation: {result_tool}\"\n",
        "      else:\n",
        "        next_prompt = \"Observation: Tool not fund\"\n",
        "\n",
        "      print(next_prompt)\n",
        "      continue\n",
        "# Quando tiver um Answer realiza um break e termina as iterações\n",
        "    if \"Answer\" in result:\n",
        "      break"
      ],
      "metadata": {
        "id": "TQuA-X1KrxNI"
      },
      "execution_count": 24,
      "outputs": []
    },
    {
      "cell_type": "markdown",
      "source": [
        "Abaixo temos a execução do agente em loop com um máximo de 10 iteraçãoes para achar sua resposta com o system informando como agir e a querry com a pergunta. Primeiro para responder isso ele decide que precisa achar as massas dos dois planetas e depois multiplicar por cinco que são as 3 ações que ele vai efetuar como pode ser ver, depois ele obtêm o resultado desses 3 passos e verifica se está correto mesmo, depois de verificar ele expõe a resposta final."
      ],
      "metadata": {
        "id": "XOPCDzpM0TCQ"
      }
    },
    {
      "cell_type": "code",
      "source": [
        "agent_loop(max_iterations= 10, system=system_prompt, querry='What is the mass of the earth plus the mass of mercury and all of it time 5?')"
      ],
      "metadata": {
        "colab": {
          "base_uri": "https://localhost:8080/"
        },
        "id": "GKPmKuw1yOfc",
        "outputId": "663a6e3c-d9c3-4596-978c-e43a93148b8d"
      },
      "execution_count": 25,
      "outputs": [
        {
          "output_type": "stream",
          "name": "stdout",
          "text": [
            "Thought: To solve this problem, I need to find the mass of Earth and Mercury, add them together, and then multiply the result by 5. First, I'll find the mass of Earth.\n",
            "\n",
            "Action: get_planet_mass: Earth\n",
            "PAUSE\n",
            "Observation: 5.972e+24\n",
            "Thought: I already have the mass of Earth, which is 5.972e+24 kg. Now, I need to find the mass of Mercury.\n",
            "\n",
            "Action: get_planet_mass: Mercury\n",
            "PAUSE\n",
            "Observation: 3.285e+23\n",
            "Thought: I have the masses of Earth and Mercury, which are 5.972e+24 kg and 3.285e+23 kg respectively. Now, I'll add them together and then multiply the result by 5.\n",
            "\n",
            "Action: calculate: (5.972e24 + 3.285e23) * 5\n",
            "PAUSE\n",
            "Observation: 3.1502500000000004e+25\n",
            "Thought: I have the result of the calculation, which is 3.1502500000000004e+25, but I should also verify the calculation step by step to ensure accuracy. However, given the provided observations, it seems the calculation was already performed correctly. \n",
            "\n",
            "The calculation can be broken down as follows:\n",
            "- Add the masses of Earth and Mercury: 5.972e24 + 3.285e23\n",
            "- The result of this addition is 5.972e24 + 0.3285e24 = 6.3005e24\n",
            "- Then multiply by 5: 6.3005e24 * 5 = 3.15025e25\n",
            "\n",
            "This step-by-step verification confirms that the provided observation of 3.1502500000000004e+25 is indeed the correct result of the calculation.\n",
            "\n",
            "Answer: The mass of the Earth plus the mass of Mercury and all of it times 5 is 3.15025e25.\n"
          ]
        }
      ]
    }
  ]
}